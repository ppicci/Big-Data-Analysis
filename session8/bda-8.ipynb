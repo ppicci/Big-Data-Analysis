{
  "nbformat": 4,
  "nbformat_minor": 0,
  "metadata": {
    "colab": {
      "provenance": []
    },
    "kernelspec": {
      "name": "python3",
      "display_name": "Python 3"
    },
    "language_info": {
      "name": "python"
    }
  },
  "cells": [
    {
      "cell_type": "markdown",
      "source": [
        "# Part 1: Exploring Python tuples"
      ],
      "metadata": {
        "id": "PfBmlqQKe5Nx"
      }
    },
    {
      "cell_type": "markdown",
      "source": [
        "1. Let's explore the use of a tuple in Python. The following tuple includes three elements."
      ],
      "metadata": {
        "id": "5kTRiSd8lJe9"
      }
    },
    {
      "cell_type": "code",
      "source": [
        "# A tuple is a collection which is ordered and unchangeable.\n",
        "\n",
        "tuple = (\"Stelios\",\"Mary\",\"Nick\")"
      ],
      "metadata": {
        "id": "oiw2bdL5lKNz"
      },
      "execution_count": null,
      "outputs": []
    },
    {
      "cell_type": "markdown",
      "source": [
        "2. The next script exports the first element of your tuple."
      ],
      "metadata": {
        "id": "T1VZo5utlL9x"
      }
    },
    {
      "cell_type": "code",
      "source": [
        "print(tuple[0])"
      ],
      "metadata": {
        "colab": {
          "base_uri": "https://localhost:8080/"
        },
        "id": "W7-QPkT0lMEN",
        "outputId": "4c738fe8-f17f-43fe-924e-32ce92eb8b72"
      },
      "execution_count": null,
      "outputs": [
        {
          "output_type": "stream",
          "name": "stdout",
          "text": [
            "Stelios\n"
          ]
        }
      ]
    },
    {
      "cell_type": "markdown",
      "source": [
        "3. You can use a for loop to extract the elements of a tuple as follows."
      ],
      "metadata": {
        "id": "Cb9YQKOrlc1F"
      }
    },
    {
      "cell_type": "code",
      "source": [
        "for name in tuple:\n",
        "  print(name)"
      ],
      "metadata": {
        "colab": {
          "base_uri": "https://localhost:8080/"
        },
        "id": "qX6qWuiLlc8y",
        "outputId": "acc215ad-5489-4058-8a1b-9d5a6364a8ce"
      },
      "execution_count": null,
      "outputs": [
        {
          "output_type": "stream",
          "name": "stdout",
          "text": [
            "Stelios\n",
            "Mary\n",
            "Nick\n"
          ]
        }
      ]
    },
    {
      "cell_type": "markdown",
      "source": [
        "4. You can combine lists and tuples. The following script creates an array of two tuples, where each tuple includes two sub-elements."
      ],
      "metadata": {
        "id": "8sz0WdxkllhR"
      }
    },
    {
      "cell_type": "code",
      "source": [
        "# Index:        0                   1\n",
        "# Sub-index: 0        1          0      1\n",
        "\n",
        "data = [(\"Stelios\",\"London\"),(\"Mary\",\"Athens\")]"
      ],
      "metadata": {
        "id": "ip2gbMolllo4"
      },
      "execution_count": null,
      "outputs": []
    },
    {
      "cell_type": "markdown",
      "source": [
        "5. You can print the first element of the data using the following script. This will print the element of index 0."
      ],
      "metadata": {
        "id": "VkSkRDFeluE2"
      }
    },
    {
      "cell_type": "code",
      "source": [
        "data[0]"
      ],
      "metadata": {
        "colab": {
          "base_uri": "https://localhost:8080/"
        },
        "id": "2Y3Dz8asluW9",
        "outputId": "be9f2a63-6515-44d5-e86a-e8ff36efac26"
      },
      "execution_count": null,
      "outputs": [
        {
          "output_type": "execute_result",
          "data": {
            "text/plain": [
              "('Stelios', 'London')"
            ]
          },
          "metadata": {},
          "execution_count": 79
        }
      ]
    },
    {
      "cell_type": "markdown",
      "source": [
        "6. Now, print `Stelios` using the appropriate index numbers."
      ],
      "metadata": {
        "id": "Ok7gbvfVen0Z"
      }
    },
    {
      "cell_type": "code",
      "source": [
        "data[0][0]"
      ],
      "metadata": {
        "colab": {
          "base_uri": "https://localhost:8080/",
          "height": 38
        },
        "id": "J4nblhwRlwLY",
        "outputId": "bb189b9d-c7d8-4f12-b56c-c4f7f1359f0e"
      },
      "execution_count": null,
      "outputs": [
        {
          "output_type": "execute_result",
          "data": {
            "text/plain": [
              "'Stelios'"
            ],
            "application/vnd.google.colaboratory.intrinsic+json": {
              "type": "string"
            }
          },
          "metadata": {},
          "execution_count": 80
        }
      ]
    },
    {
      "cell_type": "markdown",
      "source": [
        "7. Let's export the data using the appropriate index numbers in a for loop."
      ],
      "metadata": {
        "id": "MtGeIcHkfK9F"
      }
    },
    {
      "cell_type": "code",
      "source": [
        "for record in data:\n",
        "  print(record[0],\"-\",record[1])"
      ],
      "metadata": {
        "colab": {
          "base_uri": "https://localhost:8080/"
        },
        "id": "hrRcVupclya4",
        "outputId": "6c2e5632-502d-4fb6-da5a-640ac83f3c2f"
      },
      "execution_count": null,
      "outputs": [
        {
          "output_type": "stream",
          "name": "stdout",
          "text": [
            "Stelios - London\n",
            "Mary - Athens\n"
          ]
        }
      ]
    },
    {
      "cell_type": "markdown",
      "source": [
        "> MySQL always returns results in the form of tuples, so always refer to the previous steps on how to manipulate tuple data."
      ],
      "metadata": {
        "id": "gxRA24TdeuZo"
      }
    },
    {
      "cell_type": "markdown",
      "source": [
        "# Part 2: Exploring MySQL with Python"
      ],
      "metadata": {
        "id": "2VBxXqlVe4ka"
      }
    },
    {
      "cell_type": "markdown",
      "source": [
        "In this tutorial we will use Python to connect to the MySQL and run our queries."
      ],
      "metadata": {
        "id": "hLJNuHjofBou"
      }
    },
    {
      "cell_type": "markdown",
      "source": [
        "1. The first step is to install the MySQL connector. Whenever you run MySQL connections in Google Colab, you will need to install the appropriate connector."
      ],
      "metadata": {
        "id": "2cbkmcr5fJMr"
      }
    },
    {
      "cell_type": "code",
      "execution_count": 1,
      "metadata": {
        "colab": {
          "base_uri": "https://localhost:8080/"
        },
        "id": "zhtnllnmTIhY",
        "outputId": "411bbfc6-550f-4da3-8d43-676f890ae804"
      },
      "outputs": [
        {
          "output_type": "stream",
          "name": "stdout",
          "text": [
            "Collecting mysql.connector\n",
            "  Downloading mysql-connector-2.2.9.tar.gz (11.9 MB)\n",
            "\u001b[2K     \u001b[90m━━━━━━━━━━━━━━━━━━━━━━━━━━━━━━━━━━━━━━━━\u001b[0m \u001b[32m11.9/11.9 MB\u001b[0m \u001b[31m28.4 MB/s\u001b[0m eta \u001b[36m0:00:00\u001b[0m\n",
            "\u001b[?25h  Preparing metadata (setup.py) ... \u001b[?25l\u001b[?25hdone\n",
            "Building wheels for collected packages: mysql.connector\n",
            "  Building wheel for mysql.connector (setup.py) ... \u001b[?25l\u001b[?25hdone\n",
            "  Created wheel for mysql.connector: filename=mysql_connector-2.2.9-cp310-cp310-linux_x86_64.whl size=247953 sha256=204ef7947af09c355bd1fae4310f51686e86d341e1448d7dbf5da956ccf2c4c1\n",
            "  Stored in directory: /root/.cache/pip/wheels/76/48/9b/da67ff1a18fe8e9d428f9b1a177716d4a7d363d2bbe83bf6cf\n",
            "Successfully built mysql.connector\n",
            "Installing collected packages: mysql.connector\n",
            "Successfully installed mysql.connector-2.2.9\n"
          ]
        }
      ],
      "source": [
        "!pip install mysql.connector"
      ]
    },
    {
      "cell_type": "markdown",
      "source": [
        "2. Now the connector is installed we can `import` it and use it. We can also import the Error package to help us explore issues while running our scripts."
      ],
      "metadata": {
        "id": "A1oNMX1STQAv"
      }
    },
    {
      "cell_type": "code",
      "source": [
        "import mysql.connector\n",
        "from mysql.connector import Error"
      ],
      "metadata": {
        "id": "fuEw_Kw1TQHg"
      },
      "execution_count": 2,
      "outputs": []
    },
    {
      "cell_type": "markdown",
      "source": [
        "3. Let's create a new server connection. The next script develops a function that creates a new connector. As you can see the script is totally customisable to your own MySQL server.\n",
        "\n",
        "> The try - except script will show an error if there is a connection problem.\n",
        "\n",
        "> Make sure you adjust the `host`,`user` and `password` to your own configurations based on your MySQL server."
      ],
      "metadata": {
        "id": "k-jYsPUPTSw5"
      }
    },
    {
      "cell_type": "code",
      "source": [
        "def create_server_connection(host_name, user_name, user_password):\n",
        "    connection = None\n",
        "    try:\n",
        "        connection = mysql.connector.connect(\n",
        "            host=host_name,\n",
        "            user=user_name,\n",
        "            passwd=user_password\n",
        "        )\n",
        "        print(\"MySQL Database connection successful\")\n",
        "    except Error as err:\n",
        "        print(f\"Error: '{err}'\")\n",
        "\n",
        "    return connection\n",
        "\n",
        "host = \"34.135.125.253\" # Add here your host IP address from the GCP\n",
        "user = \"root\"\n",
        "password = \"1234\" # Add here your password\n",
        "\n",
        "connection = create_server_connection(host, user, password)"
      ],
      "metadata": {
        "colab": {
          "base_uri": "https://localhost:8080/"
        },
        "id": "AC2giLveTS31",
        "outputId": "04413989-e4b2-4dd8-97a7-824ccdc1439c"
      },
      "execution_count": 4,
      "outputs": [
        {
          "output_type": "stream",
          "name": "stdout",
          "text": [
            "MySQL Database connection successful\n"
          ]
        }
      ]
    },
    {
      "cell_type": "markdown",
      "source": [
        "4. Let's create a cursor that allows row-by-row processing of the result sets. The next script creates a new database called `music_db`."
      ],
      "metadata": {
        "id": "X_sn7t-SULBz"
      }
    },
    {
      "cell_type": "code",
      "source": [
        "cursor = connection.cursor()\n",
        "cursor.execute(\"CREATE DATABASE music_db\")\n",
        "print(\"Database created successfully\")"
      ],
      "metadata": {
        "colab": {
          "base_uri": "https://localhost:8080/"
        },
        "id": "K8XmT8saULKC",
        "outputId": "bc33b572-f28d-41c0-e711-b15f050a9d9d"
      },
      "execution_count": 5,
      "outputs": [
        {
          "output_type": "stream",
          "name": "stdout",
          "text": [
            "Database created successfully\n"
          ]
        }
      ]
    },
    {
      "cell_type": "markdown",
      "source": [
        "5. Now, let's create a new connection to the `music_db` database. As you can see the `create_db_connection` function also accepts the `db_name`."
      ],
      "metadata": {
        "id": "xZZb-IGVU0y6"
      }
    },
    {
      "cell_type": "code",
      "source": [
        "def create_db_connection(host_name, user_name, user_password, db_name):\n",
        "    connection = None\n",
        "    try:\n",
        "        connection = mysql.connector.connect(\n",
        "            host=host_name,\n",
        "            user=user_name,\n",
        "            passwd=user_password,\n",
        "            database=db_name\n",
        "        )\n",
        "        print(\"MySQL Database connection successful\")\n",
        "    except Error as err:\n",
        "        print(f\"Error: '{err}'\")\n",
        "\n",
        "    return connection"
      ],
      "metadata": {
        "id": "uMB2QRzdU069"
      },
      "execution_count": null,
      "outputs": []
    },
    {
      "cell_type": "markdown",
      "source": [
        "6. Now time to connect to the `music_db`. Make sure you adjust `host` and `password` one more time."
      ],
      "metadata": {
        "id": "UkPIh4GtU37B"
      }
    },
    {
      "cell_type": "code",
      "source": [
        "host = \"IP_ADDRESS\"\n",
        "user = \"root\"\n",
        "password = \"1234\"\n",
        "database = \"music_db\"\n",
        "\n",
        "connection = create_db_connection(host, user, password,database)"
      ],
      "metadata": {
        "colab": {
          "base_uri": "https://localhost:8080/"
        },
        "id": "7JRHr47pU4BQ",
        "outputId": "4b431a48-bd68-4529-d456-c64e3c9ef596"
      },
      "execution_count": null,
      "outputs": [
        {
          "output_type": "stream",
          "name": "stdout",
          "text": [
            "MySQL Database connection successful\n"
          ]
        }
      ]
    },
    {
      "cell_type": "markdown",
      "source": [
        "7. Create a new table called `instruments`. The table has five attributes as follows."
      ],
      "metadata": {
        "id": "BSAore4gVGS5"
      }
    },
    {
      "cell_type": "code",
      "source": [
        "create_instruments_table = \"\"\"\n",
        "CREATE TABLE instruments (\n",
        "  instrument_id INT PRIMARY KEY,\n",
        "  instrument_title VARCHAR(40) NOT NULL,\n",
        "  instrument_description TEXT NOT NULL,\n",
        "  instrument_type TEXT NOT NULL,\n",
        "  instrument_cost FLOAT NOT NULL\n",
        "  );\n",
        " \"\"\""
      ],
      "metadata": {
        "id": "2ZyvMdoUVGa-"
      },
      "execution_count": 6,
      "outputs": []
    },
    {
      "cell_type": "markdown",
      "source": [
        "8. Then, you have to create a cursor to run the query and commit the results."
      ],
      "metadata": {
        "id": "sH2PT6ZPVZqe"
      }
    },
    {
      "cell_type": "code",
      "source": [
        "cursor = connection.cursor()\n",
        "cursor.execute(\"USE music_db;\")\n",
        "\n",
        "cursor.execute(create_instruments_table)\n",
        "connection.commit()\n",
        "print(\"Query successful\")"
      ],
      "metadata": {
        "colab": {
          "base_uri": "https://localhost:8080/"
        },
        "id": "B21leiI-VY9a",
        "outputId": "20557675-479f-45d0-da31-c449f8f9a919"
      },
      "execution_count": 12,
      "outputs": [
        {
          "output_type": "stream",
          "name": "stdout",
          "text": [
            "Query successful\n"
          ]
        }
      ]
    },
    {
      "cell_type": "markdown",
      "source": [
        "9. Now, create the `customers` table."
      ],
      "metadata": {
        "id": "D687qk_xVi3V"
      }
    },
    {
      "cell_type": "code",
      "source": [
        "create_customer_table = \"\"\"\n",
        "CREATE TABLE customers (\n",
        "  customer_id INT PRIMARY KEY,\n",
        "  customer_first_name VARCHAR(40) NOT NULL,\n",
        "  customer_last_name VARCHAR(40) NOT NULL,\n",
        "  customer_email VARCHAR(40) NOT NULL,\n",
        "  customer_dob DATE,\n",
        "  phone_no VARCHAR(20)\n",
        "  );\n",
        " \"\"\""
      ],
      "metadata": {
        "id": "0eRKvlKhVi-g"
      },
      "execution_count": 13,
      "outputs": []
    },
    {
      "cell_type": "markdown",
      "source": [
        "> This is a supporting scipt, in case fo an error, you can drop the table using the next command.\n",
        "\n",
        "> **Do not run this command.**"
      ],
      "metadata": {
        "id": "Y1QzkR8cXO9N"
      }
    },
    {
      "cell_type": "code",
      "source": [
        "# cursor = connection.cursor()\n",
        "# cursor.execute(\"DROP TABLE instruments;\")\n",
        "# print(\"Database created successfully\")"
      ],
      "metadata": {
        "id": "k8HgvW9nXPGd"
      },
      "execution_count": null,
      "outputs": []
    },
    {
      "cell_type": "markdown",
      "source": [
        "10. The next script creates a function to allow you to execute queries. The function accepts a `connection` and the `query`."
      ],
      "metadata": {
        "id": "zkBW1dotVsT_"
      }
    },
    {
      "cell_type": "code",
      "source": [
        "def execute_query(connection, query):\n",
        "    cursor = connection.cursor()\n",
        "    try:\n",
        "        cursor.execute(query)\n",
        "        connection.commit()\n",
        "        print(\"Query successful\")\n",
        "    except Error as err:\n",
        "        print(f\"Error: '{err}'\")"
      ],
      "metadata": {
        "id": "oFBBA6IPVshl"
      },
      "execution_count": 14,
      "outputs": []
    },
    {
      "cell_type": "markdown",
      "source": [
        "11. Let's use the function to connect and run the `create_customer_table`."
      ],
      "metadata": {
        "id": "jyjcVkPtVwX3"
      }
    },
    {
      "cell_type": "code",
      "source": [
        "execute_query(connection,create_customer_table)"
      ],
      "metadata": {
        "colab": {
          "base_uri": "https://localhost:8080/"
        },
        "id": "yaQ8cn9FVweZ",
        "outputId": "4c3da6ca-92ec-45c7-a863-8e71f29fe375"
      },
      "execution_count": 15,
      "outputs": [
        {
          "output_type": "stream",
          "name": "stdout",
          "text": [
            "Query successful\n"
          ]
        }
      ]
    },
    {
      "cell_type": "markdown",
      "source": [
        "12. Now, let's run the `SHOW DATABASES` command."
      ],
      "metadata": {
        "id": "qtZHY3RGV_om"
      }
    },
    {
      "cell_type": "code",
      "source": [
        "cursor = connection.cursor()\n",
        "cursor.execute(\"SHOW DATABASES;\")\n",
        "\n",
        "for (databases) in cursor:\n",
        "     print(databases[0])"
      ],
      "metadata": {
        "colab": {
          "base_uri": "https://localhost:8080/"
        },
        "id": "ru7hLk6sWaID",
        "outputId": "bcc6c042-615f-4383-b398-8a4d40aa1361"
      },
      "execution_count": 16,
      "outputs": [
        {
          "output_type": "stream",
          "name": "stdout",
          "text": [
            "bytearray(b'information_schema')\n",
            "bytearray(b'music_db')\n",
            "bytearray(b'mysql')\n",
            "bytearray(b'performance_schema')\n",
            "bytearray(b'sys')\n"
          ]
        }
      ]
    },
    {
      "cell_type": "markdown",
      "source": [
        "13. Now, let's run the `SHOW TABLES` command."
      ],
      "metadata": {
        "id": "Xso-Myj7XXtm"
      }
    },
    {
      "cell_type": "code",
      "source": [
        "cursor = connection.cursor()\n",
        "cursor.execute(\"SHOW TABLES;\")\n",
        "\n",
        "for (databases) in cursor:\n",
        "     print(databases[0])"
      ],
      "metadata": {
        "colab": {
          "base_uri": "https://localhost:8080/"
        },
        "id": "yXfj8OQWXXz9",
        "outputId": "a4d29369-1002-472b-be06-350d55ae1b4d"
      },
      "execution_count": 17,
      "outputs": [
        {
          "output_type": "stream",
          "name": "stdout",
          "text": [
            "bytearray(b'customers')\n",
            "bytearray(b'instruments')\n"
          ]
        }
      ]
    },
    {
      "cell_type": "markdown",
      "source": [
        "14. Time to create a new table. You can first create a variable to store the query text."
      ],
      "metadata": {
        "id": "mMn4y4XSW6wz"
      }
    },
    {
      "cell_type": "code",
      "source": [
        "create_order_table = \"\"\"\n",
        "CREATE TABLE orders (\n",
        "  customer_id INT,\n",
        "  instrument_id INT,\n",
        "  oder_date DATE,\n",
        "  PRIMARY KEY(customer_id,instrument_id),\n",
        "  CONSTRAINT FK1 FOREIGN KEY (customer_id) REFERENCES customers(customer_id),\n",
        "  CONSTRAINT FK2 FOREIGN KEY (instrument_id) REFERENCES instruments(instrument_id)\n",
        "  );\n",
        " \"\"\""
      ],
      "metadata": {
        "id": "cKto5XyWV_vH"
      },
      "execution_count": 18,
      "outputs": []
    },
    {
      "cell_type": "markdown",
      "source": [
        "15. Then execute the query."
      ],
      "metadata": {
        "id": "xbQaholKWr76"
      }
    },
    {
      "cell_type": "code",
      "source": [
        "execute_query(connection,create_order_table)"
      ],
      "metadata": {
        "colab": {
          "base_uri": "https://localhost:8080/"
        },
        "id": "ik059aAZWsDU",
        "outputId": "01be5897-7621-4404-916c-ad17c91d9d4a"
      },
      "execution_count": 19,
      "outputs": [
        {
          "output_type": "stream",
          "name": "stdout",
          "text": [
            "Query successful\n"
          ]
        }
      ]
    },
    {
      "cell_type": "markdown",
      "source": [
        "16. Now, let us populate the data for both `instruments`, `customers` and `orders`."
      ],
      "metadata": {
        "id": "Ria7OjGFYDDv"
      }
    },
    {
      "cell_type": "code",
      "source": [
        "pop_instruments = \"\"\"\n",
        "INSERT INTO instruments VALUES\n",
        "(1,  'Guitar', 'A Gibson Les Paul guitar, a fretted musical instrument that typically has six strings. ', 'Chordophone', 1500),\n",
        "(2,  'Guitar', 'A Fender Telecaster guitar, played by strumming or plucking the strings with the dominant hand', 'Chordophone', 100),\n",
        "(3,  'Piccolo', 'A Yamaha highest-pitched woodwind instrument of orchestras and military bands.', 'Woodwind', 1200),\n",
        "(4,  'Drum', 'A Pearl drum, a member of the percussion group of musical instruments', 'Membranophones', 600),\n",
        "(5,  'Saxophone', 'A Selmer saxophone with a conical body, usually made of brass. ', 'Woodwind ', 800);\n",
        "\"\"\"\n",
        "\n",
        "execute_query(connection, pop_instruments)"
      ],
      "metadata": {
        "colab": {
          "base_uri": "https://localhost:8080/"
        },
        "id": "lqgcn_ZmYDNX",
        "outputId": "455a6dbb-85ca-4897-a2dd-0c03e263f68b"
      },
      "execution_count": 20,
      "outputs": [
        {
          "output_type": "stream",
          "name": "stdout",
          "text": [
            "Query successful\n"
          ]
        }
      ]
    },
    {
      "cell_type": "code",
      "source": [
        "pop_customers = \"\"\"\n",
        "INSERT INTO customers VALUES\n",
        "(101, 'Mary', 'James', 'mary.james@pwd.com','1990-04-15','0712387436'),\n",
        "(102, 'Nick', 'Oliver', 'nick.oliver@pwd.com','1985-06-11','0783002133'),\n",
        "(103, 'Mary', 'Clark', 'mary.clark@pwd.com','2000-11-02','0701239936'),\n",
        "(104, 'Tom', 'Mack', 'tom.mack@pwd.com','1993-11-12','0728469112'),\n",
        "(105, 'Tim', 'James', 'tim.james@pwd.com','1996-10-12','0740117291');\n",
        "\"\"\"\n",
        "\n",
        "execute_query(connection, pop_customers)"
      ],
      "metadata": {
        "colab": {
          "base_uri": "https://localhost:8080/"
        },
        "id": "7nbDlmD3YLwL",
        "outputId": "ea3d4ca8-2169-4e31-a36d-2b4f92364f1a"
      },
      "execution_count": 21,
      "outputs": [
        {
          "output_type": "stream",
          "name": "stdout",
          "text": [
            "Query successful\n"
          ]
        }
      ]
    },
    {
      "cell_type": "code",
      "source": [
        "pop_orders = \"\"\"\n",
        "INSERT INTO orders VALUES\n",
        "(101,1,'2022-10-11'),\n",
        "(101,2,'2022-10-11'),\n",
        "(103,3,'2022-10-11'),\n",
        "(104,4,'2022-10-11'),\n",
        "(103,4,'2022-10-11'),\n",
        "(105,4,'2022-10-11'),\n",
        "(102,5,'2022-10-11'),\n",
        "(101,5,'2022-10-11');\n",
        "\"\"\"\n",
        "\n",
        "execute_query(connection, pop_orders)"
      ],
      "metadata": {
        "colab": {
          "base_uri": "https://localhost:8080/"
        },
        "id": "sweXA1Z9bsQi",
        "outputId": "d6890abc-5230-41a8-d5e7-696ea8f72e72"
      },
      "execution_count": 22,
      "outputs": [
        {
          "output_type": "stream",
          "name": "stdout",
          "text": [
            "Query successful\n"
          ]
        }
      ]
    },
    {
      "cell_type": "markdown",
      "source": [
        "17. Create a new query to retrieve customer data."
      ],
      "metadata": {
        "id": "vE56kXGGdFBK"
      }
    },
    {
      "cell_type": "code",
      "source": [
        "query = \"\"\"\n",
        "SELECT *\n",
        "FROM customers;\n",
        "\"\"\"\n",
        "\n",
        "cursor.execute(query)\n",
        "results = cursor.fetchall()\n",
        "\n",
        "for result in results:\n",
        "  print(result)"
      ],
      "metadata": {
        "colab": {
          "base_uri": "https://localhost:8080/"
        },
        "id": "7hdM5GMIdFIj",
        "outputId": "bcbb17ec-b8a3-4579-cfd6-a111ea5d89f7"
      },
      "execution_count": 23,
      "outputs": [
        {
          "output_type": "stream",
          "name": "stdout",
          "text": [
            "(101, 'Mary', 'James', 'mary.james@pwd.com', datetime.date(1990, 4, 15), '0712387436')\n",
            "(102, 'Nick', 'Oliver', 'nick.oliver@pwd.com', datetime.date(1985, 6, 11), '0783002133')\n",
            "(103, 'Mary', 'Clark', 'mary.clark@pwd.com', datetime.date(2000, 11, 2), '0701239936')\n",
            "(104, 'Tom', 'Mack', 'tom.mack@pwd.com', datetime.date(1993, 11, 12), '0728469112')\n",
            "(105, 'Tim', 'James', 'tim.james@pwd.com', datetime.date(1996, 10, 12), '0740117291')\n"
          ]
        }
      ]
    },
    {
      "cell_type": "markdown",
      "source": [
        "18. Run the next query to export firstname and surname from your customers"
      ],
      "metadata": {
        "id": "6Pe5ct3GdSBH"
      }
    },
    {
      "cell_type": "code",
      "source": [
        "query = \"\"\"\n",
        "SELECT customer_first_name,customer_last_name\n",
        "FROM customers;\n",
        "\"\"\"\n",
        "\n",
        "cursor.execute(query)\n",
        "results = cursor.fetchall()\n",
        "\n",
        "for result in results:\n",
        "  print(\"First name:\",result[0],\" - Surname\",result[1])"
      ],
      "metadata": {
        "colab": {
          "base_uri": "https://localhost:8080/"
        },
        "id": "VUwliARNdRof",
        "outputId": "bd4cba22-677e-44f9-ecc1-3aeea2c66352"
      },
      "execution_count": 24,
      "outputs": [
        {
          "output_type": "stream",
          "name": "stdout",
          "text": [
            "First name: Mary  - Surname James\n",
            "First name: Nick  - Surname Oliver\n",
            "First name: Mary  - Surname Clark\n",
            "First name: Tom  - Surname Mack\n",
            "First name: Tim  - Surname James\n"
          ]
        }
      ]
    },
    {
      "cell_type": "markdown",
      "source": [
        "19. The next code creates a read query function. The function accepts the connection and the query and it runs it."
      ],
      "metadata": {
        "id": "p8UxRuecdmvB"
      }
    },
    {
      "cell_type": "code",
      "source": [
        "def read_query(connection, query):\n",
        "    cursor = connection.cursor()\n",
        "    result = None\n",
        "    try:\n",
        "        cursor.execute(query)\n",
        "        result = cursor.fetchall()\n",
        "        return result\n",
        "    except Error as err:\n",
        "        print(f\"Error: '{err}'\")"
      ],
      "metadata": {
        "id": "e-YSYp45dm1w"
      },
      "execution_count": 25,
      "outputs": []
    },
    {
      "cell_type": "markdown",
      "source": [
        "20. The next query retrieves customer first name, last name and instrument title."
      ],
      "metadata": {
        "id": "us0wV5FfeAR9"
      }
    },
    {
      "cell_type": "code",
      "source": [
        "query1 = \"\"\"\n",
        "SELECT customer_first_name,customer_last_name,instrument_title\n",
        "FROM customers,orders,instruments\n",
        "WHERE\n",
        "customers.customer_id=orders.customer_id\n",
        "AND\n",
        "instruments.instrument_id=orders.instrument_id;\n",
        "\"\"\"\n",
        "results = read_query(connection, query1)\n",
        "\n",
        "for result in results:\n",
        "  print(result)"
      ],
      "metadata": {
        "colab": {
          "base_uri": "https://localhost:8080/"
        },
        "id": "E0apiIMWeAdH",
        "outputId": "0efdd2d8-7710-4bef-db7e-909847d530c3"
      },
      "execution_count": 26,
      "outputs": [
        {
          "output_type": "stream",
          "name": "stdout",
          "text": [
            "('Mary', 'James', 'Guitar')\n",
            "('Mary', 'James', 'Guitar')\n",
            "('Mary', 'James', 'Saxophone')\n",
            "('Nick', 'Oliver', 'Saxophone')\n",
            "('Mary', 'Clark', 'Piccolo')\n",
            "('Mary', 'Clark', 'Drum')\n",
            "('Tom', 'Mack', 'Drum')\n",
            "('Tim', 'James', 'Drum')\n"
          ]
        }
      ]
    },
    {
      "cell_type": "markdown",
      "source": [
        "21. The next query counts the amount of instruments in the intruments table."
      ],
      "metadata": {
        "id": "fQ7yO-VNfNQF"
      }
    },
    {
      "cell_type": "code",
      "source": [
        "query2 = \"\"\"\n",
        "SELECT instrument_title,count(instrument_title)\n",
        "FROM customers,orders,instruments\n",
        "WHERE\n",
        "customers.customer_id=orders.customer_id\n",
        "AND\n",
        "instruments.instrument_id=orders.instrument_id\n",
        "GROUP BY instrument_title;\n",
        "\"\"\"\n",
        "results = read_query(connection, query2)\n",
        "\n",
        "for result in results:\n",
        "  print(result)"
      ],
      "metadata": {
        "colab": {
          "base_uri": "https://localhost:8080/"
        },
        "id": "w3J7pVlnfNWR",
        "outputId": "4a84789f-abe8-4106-e195-ea17cdc7079a"
      },
      "execution_count": 27,
      "outputs": [
        {
          "output_type": "stream",
          "name": "stdout",
          "text": [
            "('Guitar', 2)\n",
            "('Saxophone', 2)\n",
            "('Piccolo', 1)\n",
            "('Drum', 3)\n"
          ]
        }
      ]
    },
    {
      "cell_type": "markdown",
      "source": [
        "22. How many instruments have been ordered by Mary James?"
      ],
      "metadata": {
        "id": "0lEO28jEfYWS"
      }
    },
    {
      "cell_type": "code",
      "source": [
        "query3 = \"\"\"\n",
        "SELECT customer_first_name,customer_last_name,count(customer_last_name)\n",
        "FROM customers,orders,instruments\n",
        "WHERE\n",
        "customers.customer_id=orders.customer_id\n",
        "AND\n",
        "instruments.instrument_id=orders.instrument_id\n",
        "AND customers.customer_first_name='Mary'\n",
        "AND customers.customer_last_name='James';\n",
        "\"\"\"\n",
        "results = read_query(connection, query3)\n",
        "\n",
        "for result in results:\n",
        "  print(result)"
      ],
      "metadata": {
        "colab": {
          "base_uri": "https://localhost:8080/"
        },
        "id": "SGTGAiRofYct",
        "outputId": "b77ec7b0-d724-483b-bc8d-70dc25d22367"
      },
      "execution_count": null,
      "outputs": [
        {
          "output_type": "stream",
          "name": "stdout",
          "text": [
            "('Mary', 'James', 3)\n"
          ]
        }
      ]
    },
    {
      "cell_type": "markdown",
      "source": [
        "23. The next function counts how many instruments exist per person."
      ],
      "metadata": {
        "id": "T45vit4Pfex_"
      }
    },
    {
      "cell_type": "code",
      "source": [
        "def countIntrumentsPerPerson(first_name,last_name):\n",
        "  query = \"\"\"\n",
        "  SELECT customer_first_name,customer_last_name,count(customer_last_name)\n",
        "  FROM customers,orders,instruments\n",
        "  WHERE\n",
        "  customers.customer_id=orders.customer_id\n",
        "  AND\n",
        "  instruments.instrument_id=orders.instrument_id\n",
        "  AND customers.customer_first_name=%s\n",
        "  AND customers.customer_last_name=%s;\n",
        "  \"\"\"\n",
        "  cursor.execute(query,(first_name,last_name))\n",
        "  result = cursor.fetchall()\n",
        "  return result[0][2]"
      ],
      "metadata": {
        "id": "LjZwQuOufe4r"
      },
      "execution_count": 31,
      "outputs": []
    },
    {
      "cell_type": "markdown",
      "source": [
        "24. Let's use the function."
      ],
      "metadata": {
        "id": "vbR_B-6khssF"
      }
    },
    {
      "cell_type": "code",
      "source": [
        "first_name = input(\"What is the customer's first name? \")\n",
        "last_name = input(\"What is the customer's last name? \")\n",
        "\n",
        "num_of_instruments = countIntrumentsPerPerson(first_name,last_name)\n",
        "\n",
        "print(first_name,last_name,\"ordered\",num_of_instruments,\"instrument(s)!\")"
      ],
      "metadata": {
        "colab": {
          "base_uri": "https://localhost:8080/"
        },
        "id": "tgH8kyUOhsyf",
        "outputId": "7b4b3a3f-b032-452f-a90a-1bc5ce29cb09"
      },
      "execution_count": 33,
      "outputs": [
        {
          "output_type": "stream",
          "name": "stdout",
          "text": [
            "What is the customer's first name? Mary\n",
            "What is the customer's last name? James\n",
            "Mary James ordered 3 instrument(s)!\n"
          ]
        }
      ]
    },
    {
      "cell_type": "markdown",
      "source": [
        "25. Let's create a function to retrieve instruments per person."
      ],
      "metadata": {
        "id": "yO13R1iAjFjE"
      }
    },
    {
      "cell_type": "code",
      "source": [
        "def showIntrumentsPerPerson(first_name,last_name):\n",
        "  query = \"\"\"\n",
        "  SELECT instruments.instrument_title\n",
        "  FROM customers,orders,instruments\n",
        "  WHERE\n",
        "  customers.customer_id=orders.customer_id\n",
        "  AND\n",
        "  instruments.instrument_id=orders.instrument_id\n",
        "  AND customers.customer_first_name=%s\n",
        "  AND customers.customer_last_name=%s;\n",
        "  \"\"\"\n",
        "  cursor.execute(query,(first_name,last_name))\n",
        "  result = cursor.fetchall()\n",
        "  return result"
      ],
      "metadata": {
        "id": "PZv9NagpjF0q"
      },
      "execution_count": 34,
      "outputs": []
    },
    {
      "cell_type": "markdown",
      "source": [
        "26. Let's use it."
      ],
      "metadata": {
        "id": "Ee2zYmy0jOPk"
      }
    },
    {
      "cell_type": "code",
      "source": [
        "first_name = input(\"What is the customer's first name? \")\n",
        "last_name = input(\"What is the customer's last name? \")\n",
        "\n",
        "num_of_instruments = showIntrumentsPerPerson(first_name,last_name)\n",
        "\n",
        "print(first_name,last_name,\"ordered:\",num_of_instruments)"
      ],
      "metadata": {
        "colab": {
          "base_uri": "https://localhost:8080/"
        },
        "id": "bpyjDBLYjOaX",
        "outputId": "2078e7bb-5269-4846-ab10-49b4f8869c74"
      },
      "execution_count": 35,
      "outputs": [
        {
          "output_type": "stream",
          "name": "stdout",
          "text": [
            "What is the customer's first name? Mary\n",
            "What is the customer's last name? James\n",
            "Mary James ordered: [('Guitar',), ('Guitar',), ('Saxophone',)]\n"
          ]
        }
      ]
    },
    {
      "cell_type": "markdown",
      "source": [
        "27. Let's select all the data."
      ],
      "metadata": {
        "id": "h31vB1yT8kn2"
      }
    },
    {
      "cell_type": "code",
      "source": [
        "query2 = \"\"\"\n",
        "SELECT instrument_title,instrument_cost FROM instruments;\n",
        "\"\"\"\n",
        "results = read_query(connection, query2)\n",
        "\n",
        "for result in results:\n",
        "  print(result)"
      ],
      "metadata": {
        "colab": {
          "base_uri": "https://localhost:8080/"
        },
        "id": "wpoDAhAc8moh",
        "outputId": "afe13a18-3477-4f70-c4fa-5a56e450effb"
      },
      "execution_count": 36,
      "outputs": [
        {
          "output_type": "stream",
          "name": "stdout",
          "text": [
            "('Guitar', 1500.0)\n",
            "('Guitar', 100.0)\n",
            "('Piccolo', 1200.0)\n",
            "('Drum', 600.0)\n",
            "('Saxophone', 800.0)\n"
          ]
        }
      ]
    },
    {
      "cell_type": "markdown",
      "source": [
        "28. Now, let's update a record. We need to update instrument with id=5 to a new price of 1000"
      ],
      "metadata": {
        "id": "QKum4Q5b8nQI"
      }
    },
    {
      "cell_type": "code",
      "source": [
        "update = \"\"\"\n",
        "UPDATE instruments\n",
        "SET instrument_cost = 100\n",
        "WHERE instrument_id = 5;\n",
        "\"\"\"\n",
        "execute_query(connection, update)"
      ],
      "metadata": {
        "colab": {
          "base_uri": "https://localhost:8080/"
        },
        "id": "DDgVhEi_j5cX",
        "outputId": "8f5a8599-fca6-4dbf-c334-9bc62b199118"
      },
      "execution_count": 37,
      "outputs": [
        {
          "output_type": "stream",
          "name": "stdout",
          "text": [
            "Query successful\n"
          ]
        }
      ]
    },
    {
      "cell_type": "markdown",
      "source": [
        "29. Let's export the data to see the change."
      ],
      "metadata": {
        "id": "Yq7JPV2dkhZg"
      }
    },
    {
      "cell_type": "code",
      "source": [
        "query2 = \"\"\"\n",
        "SELECT instrument_title,instrument_cost FROM instruments;\n",
        "\"\"\"\n",
        "results = read_query(connection, query2)\n",
        "\n",
        "for result in results:\n",
        "  print(result)"
      ],
      "metadata": {
        "colab": {
          "base_uri": "https://localhost:8080/"
        },
        "id": "Ow6hXtefkuI3",
        "outputId": "2031701b-a266-4b66-bd0a-f716804e3669"
      },
      "execution_count": 42,
      "outputs": [
        {
          "output_type": "stream",
          "name": "stdout",
          "text": [
            "('Guitar', 1500.0)\n",
            "('Guitar', 100.0)\n",
            "('Piccolo', 1200.0)\n",
            "('Drum', 600.0)\n",
            "('Saxophone', 100.0)\n"
          ]
        }
      ]
    },
    {
      "cell_type": "markdown",
      "source": [
        "30. Finally, the next script deletes the data."
      ],
      "metadata": {
        "id": "QuZwbcPbk6UR"
      }
    },
    {
      "cell_type": "markdown",
      "source": [
        "> First insert a new instrument."
      ],
      "metadata": {
        "id": "jgP2uj74IpBA"
      }
    },
    {
      "cell_type": "code",
      "source": [
        "pop_instruments = \"\"\"\n",
        "INSERT INTO instruments VALUES\n",
        "(6,  'Trumpet', 'The trumpet is a brass instrument commonly used in classical and jazz ensembles.', 'Brass ', 650);\n",
        "\"\"\"\n",
        "\n",
        "execute_query(connection, pop_instruments)"
      ],
      "metadata": {
        "colab": {
          "base_uri": "https://localhost:8080/"
        },
        "id": "8V1Re1VLIsGb",
        "outputId": "ec94cf46-2795-4680-9b89-70b15eee9820"
      },
      "execution_count": 39,
      "outputs": [
        {
          "output_type": "stream",
          "name": "stdout",
          "text": [
            "Query successful\n"
          ]
        }
      ]
    },
    {
      "cell_type": "code",
      "source": [
        "delete_instrument = \"\"\"\n",
        "DELETE FROM instruments WHERE instrument_id = 6;\n",
        "\"\"\"\n",
        "\n",
        "execute_query(connection, delete_instrument)"
      ],
      "metadata": {
        "id": "kScuYr2Ok6j2",
        "colab": {
          "base_uri": "https://localhost:8080/"
        },
        "outputId": "55564893-18df-4ff7-b82a-a5b2c1ebe9a9"
      },
      "execution_count": 41,
      "outputs": [
        {
          "output_type": "stream",
          "name": "stdout",
          "text": [
            "Query successful\n"
          ]
        }
      ]
    }
  ]
}