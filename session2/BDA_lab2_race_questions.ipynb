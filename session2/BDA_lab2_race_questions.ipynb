{
 "nbformat": 4,
 "nbformat_minor": 0,
 "metadata": {
  "colab": {
   "provenance": []
  },
  "kernelspec": {
   "name": "python3",
   "display_name": "Python 3"
  },
  "language_info": {
   "name": "python"
  }
 },
 "cells": [
  {
   "cell_type": "markdown",
   "source": [
    "# BDA Lab 2"
   ],
   "metadata": {
    "id": "_IVCQrrG1xkk"
   }
  },
  {
   "cell_type": "markdown",
   "source": [
    "### In this race lab you are not allowed to use any built-in Python functions like `len`, `sum`, `max`, `range` etc. 😀\n",
    "\n",
    "You can create your own supporting functions, if necessary."
   ],
   "metadata": {
    "id": "okWxV7hrqj-s"
   }
  },
  {
   "cell_type": "markdown",
   "source": [
    "**🔉 This lab is a timed race, which means we will proceed through this tutorial together during the lab session, using a timer.**"
   ],
   "metadata": {
    "id": "lKEbiyJt9IvF"
   }
  },
  {
   "cell_type": "markdown",
   "source": [
    "# Warmup group 1"
   ],
   "metadata": {
    "id": "e8mHcvymzhit"
   }
  },
  {
   "cell_type": "markdown",
   "source": [
    "**Warmup 1**\n",
    "\n",
    "Create a list and print all its elements.\n",
    "\n",
    "`alist = [-10,-5,0,4,9]`\n"
   ],
   "metadata": {
    "id": "ggtxr1d9dgPN"
   }
  },
  {
   "cell_type": "code",
   "source": [
    "# Provide your solution here\n",
    "\n",
    "alist = [-10,-5,0,4,9]\n"
   ],
   "metadata": {
    "colab": {
     "base_uri": "https://localhost:8080/"
    },
    "id": "IEqHsNQOdrls",
    "outputId": "8c59f384-04d6-47d7-ecb4-b715bec0f364"
   },
   "execution_count": null,
   "outputs": [
    {
     "output_type": "stream",
     "name": "stdout",
     "text": [
      "-10\n",
      "-5\n",
      "0\n",
      "4\n",
      "9\n"
     ]
    }
   ]
  },
  {
   "cell_type": "markdown",
   "source": [
    "> What are the time and space complexities?\n",
    ">\n",
    "> Time: ?\n",
    ">\n",
    "> Space: ?"
   ],
   "metadata": {
    "id": "1iPPFTJEeBUp"
   }
  },
  {
   "cell_type": "markdown",
   "source": [
    "**Warmup 2**\n",
    "\n",
    "Print the index numbers of the list.\n",
    "alist = [-10,-5,0,4,9]"
   ],
   "metadata": {
    "id": "0odD6c_TqNt5"
   }
  },
  {
   "cell_type": "code",
   "source": [
    "# Provide your solution here\n",
    "\n",
    "alist = [-10,-5,0,4,9]\n"
   ],
   "metadata": {
    "colab": {
     "base_uri": "https://localhost:8080/"
    },
    "id": "0s6V0k1rqV29",
    "outputId": "14a1c80a-e88b-4838-e86f-1c910c7bb907"
   },
   "execution_count": null,
   "outputs": [
    {
     "output_type": "stream",
     "name": "stdout",
     "text": [
      "0\n",
      "1\n",
      "2\n",
      "3\n",
      "4\n"
     ]
    }
   ]
  },
  {
   "cell_type": "markdown",
   "source": [
    "**Warmup 3**\n",
    "\n",
    "Create a list and print only the positive numbers or zeros.\n",
    "\n",
    "`alist = [-10,-5,0,4,9]`\n",
    "\n"
   ],
   "metadata": {
    "id": "mZxfViIpdu8U"
   }
  },
  {
   "cell_type": "code",
   "source": [
    "# Provide your solution here\n",
    "\n",
    "alist = [-10,-5,0,4,9]\n"
   ],
   "metadata": {
    "colab": {
     "base_uri": "https://localhost:8080/"
    },
    "id": "cuNwQtzSeFUv",
    "outputId": "306c8419-0cbc-4dec-fba0-7e9444c59bf2"
   },
   "execution_count": null,
   "outputs": [
    {
     "output_type": "stream",
     "name": "stdout",
     "text": [
      "0\n",
      "4\n",
      "9\n"
     ]
    }
   ]
  },
  {
   "cell_type": "markdown",
   "source": [
    "> What are the time and space complexities?\n",
    ">\n",
    "> Time: ?\n",
    ">\n",
    "> Space: ?"
   ],
   "metadata": {
    "id": "mI7XjasgeJ0k"
   }
  },
  {
   "cell_type": "markdown",
   "source": [
    "**Warmup 4**\n",
    "\n",
    "Export the positive numbers or zeros into a new list.\n",
    "\n",
    "`alist = [-10,-5,0,4,9]`"
   ],
   "metadata": {
    "id": "o2AvqWP6ePLm"
   }
  },
  {
   "cell_type": "code",
   "source": [
    "# Provide your solution here\n",
    "\n",
    "alist = [-10,-5,0,4,9]\n"
   ],
   "metadata": {
    "colab": {
     "base_uri": "https://localhost:8080/"
    },
    "id": "HpydkJpweUVX",
    "outputId": "befb1af9-a693-46b2-e303-7b5cc270c680"
   },
   "execution_count": null,
   "outputs": [
    {
     "output_type": "stream",
     "name": "stdout",
     "text": [
      "[0, 4, 9]\n"
     ]
    }
   ]
  },
  {
   "cell_type": "markdown",
   "source": [
    "> What are the time and space complexities?\n",
    ">\n",
    "> Time: ?\n",
    ">\n",
    "> Space: ?"
   ],
   "metadata": {
    "id": "XBW9BFa_eaoV"
   }
  },
  {
   "cell_type": "markdown",
   "source": [
    "**Warmup 5**\n",
    "\n",
    "Find the average of a list of integers.\n",
    "* `alist = [-10,-5,0,4,9]`"
   ],
   "metadata": {
    "id": "2WCH2fNYfSmh"
   }
  },
  {
   "cell_type": "code",
   "source": [
    "# Provide your solution here\n",
    "\n",
    "alist = [-10,-5,0,4,9]\n"
   ],
   "metadata": {
    "colab": {
     "base_uri": "https://localhost:8080/"
    },
    "id": "YVg-3buRfXy3",
    "outputId": "7be5d5a8-1187-4f9e-b38e-e2ac2fbcfbb8"
   },
   "execution_count": null,
   "outputs": [
    {
     "output_type": "stream",
     "name": "stdout",
     "text": [
      "-0.4\n"
     ]
    }
   ]
  },
  {
   "cell_type": "markdown",
   "source": [
    "> What are the time and space complexities?\n",
    ">\n",
    "> Time: ?\n",
    ">\n",
    "> Space: ?"
   ],
   "metadata": {
    "id": "y9JwlsIygz1a"
   }
  },
  {
   "cell_type": "markdown",
   "source": [
    "**Warmup 6**"
   ],
   "metadata": {
    "id": "t7DrWe2QtkJt"
   }
  },
  {
   "cell_type": "markdown",
   "source": [
    "Find the max of a sorted list of positive integers."
   ],
   "metadata": {
    "id": "CylHqpsvhEoL"
   }
  },
  {
   "cell_type": "code",
   "source": [
    "# Provide your solution here\n",
    "\n",
    "alist = [4,6,8,10]\n",
    "\n"
   ],
   "metadata": {
    "colab": {
     "base_uri": "https://localhost:8080/"
    },
    "id": "lbB8xeudhT14",
    "outputId": "6ca8f203-76d4-4146-e089-a231b58fbbb0"
   },
   "execution_count": 3,
   "outputs": [
    {
     "output_type": "execute_result",
     "data": {
      "text/plain": [
       "10"
      ]
     },
     "metadata": {},
     "execution_count": 3
    }
   ]
  },
  {
   "cell_type": "markdown",
   "source": [
    "> What are the time and space complexities?\n",
    ">\n",
    "> Time: ?\n",
    ">\n",
    "> Space: ?"
   ],
   "metadata": {
    "id": "I9Z-dP5mhb0C"
   }
  },
  {
   "cell_type": "markdown",
   "source": [
    "**Warmup 7**"
   ],
   "metadata": {
    "id": "cbNecGo2haCm"
   }
  },
  {
   "cell_type": "markdown",
   "source": [
    "Find the max of a list of positive integers."
   ],
   "metadata": {
    "id": "0ontsTzOtoL9"
   }
  },
  {
   "cell_type": "code",
   "source": [
    "# Provide your solution here\n",
    "\n",
    "# def findMax(alist):\n",
    "# ...\n",
    "\n",
    "alist = [4,6,8,10]\n",
    "findMax(alist)"
   ],
   "metadata": {
    "colab": {
     "base_uri": "https://localhost:8080/"
    },
    "id": "DmGUvutDtnBT",
    "outputId": "140ce8ca-8597-4f25-f005-0785f8711561"
   },
   "execution_count": null,
   "outputs": [
    {
     "output_type": "stream",
     "name": "stdout",
     "text": [
      "10\n"
     ]
    }
   ]
  },
  {
   "cell_type": "markdown",
   "source": [
    "> What are the time and space complexities?\n",
    ">\n",
    "> Time: ?\n",
    ">\n",
    "> Space: ?"
   ],
   "metadata": {
    "id": "EVG4qkSbg6tH"
   }
  },
  {
   "cell_type": "markdown",
   "source": [
    "# Exercises group 1"
   ],
   "metadata": {
    "id": "3QAw6qes0Y4m"
   }
  },
  {
   "cell_type": "markdown",
   "source": [
    "**E1.1**\n",
    "\n",
    "Print the list in reverse order.\n",
    "\n",
    "`alist = [-10,-5,0,4,9]`"
   ],
   "metadata": {
    "id": "aCya2f4nfFJU"
   }
  },
  {
   "cell_type": "code",
   "source": [
    "# Provide your solution here\n",
    "\n",
    "alist = [-10,-5,0,4,9]\n"
   ],
   "metadata": {
    "colab": {
     "base_uri": "https://localhost:8080/"
    },
    "id": "h4hV5c_1fFpF",
    "outputId": "279cbc7a-df64-4046-8033-64c60906c163"
   },
   "execution_count": null,
   "outputs": [
    {
     "output_type": "stream",
     "name": "stdout",
     "text": [
      "9\n",
      "4\n",
      "0\n",
      "-5\n",
      "-10\n"
     ]
    }
   ]
  },
  {
   "cell_type": "markdown",
   "source": [
    "> What are the time and space complexities?\n",
    ">\n",
    "> Time: ?\n",
    ">\n",
    "> Space: ?"
   ],
   "metadata": {
    "id": "L1xCDxwlftmB"
   }
  },
  {
   "cell_type": "markdown",
   "source": [
    "**E1.2**\n",
    "\n",
    "Remove the negative numbers of a list.\n",
    "\n",
    "`alist = [-10,-5,0,4,9]`"
   ],
   "metadata": {
    "id": "dBxq9Pvmednh"
   }
  },
  {
   "cell_type": "markdown",
   "source": [
    "For this task you can use the following script:\n",
    "\n",
    "`for i in range(len(alist) - 1, -1, -1):`"
   ],
   "metadata": {
    "id": "0iXe11dTxO0l"
   }
  },
  {
   "cell_type": "code",
   "source": [
    "# Provide your solution here\n",
    "alist = [-10,-5,0,4,9]\n",
    "\n",
    "# i is the index..\n",
    "# for i in range(len(alist) - 1, -1, -1):\n",
    "\n"
   ],
   "metadata": {
    "colab": {
     "base_uri": "https://localhost:8080/"
    },
    "id": "qAI5cn9beikC",
    "outputId": "0744a255-2c0f-4075-ce1f-00a4a6d4ffa2"
   },
   "execution_count": null,
   "outputs": [
    {
     "output_type": "stream",
     "name": "stdout",
     "text": [
      "[4, 9]\n"
     ]
    }
   ]
  },
  {
   "cell_type": "markdown",
   "source": [
    "> What are the time and space complexities?\n",
    ">\n",
    "> Time: ?\n",
    ">\n",
    "> Space: ?"
   ],
   "metadata": {
    "id": "FmQoNhqkfwHg"
   }
  },
  {
   "cell_type": "markdown",
   "source": [
    "**E1.3**\n",
    "\n",
    "Write a program that prompts the user to enter a password.\n",
    "\n",
    "If the password is incorrect, keep prompting the user until they enter the correct password.\n",
    "\n",
    "* The correct password is `secret`."
   ],
   "metadata": {
    "id": "aqb6XG7YhB9v"
   }
  },
  {
   "cell_type": "code",
   "source": [
    "# Provide your solution here\n"
   ],
   "metadata": {
    "colab": {
     "base_uri": "https://localhost:8080/"
    },
    "id": "oHrAsC2NhCTp",
    "outputId": "fbc2f42f-b5ad-454f-cdfc-4d12cb1d6270"
   },
   "execution_count": null,
   "outputs": [
    {
     "output_type": "stream",
     "name": "stdout",
     "text": [
      "Enter the password: secret\n",
      "Password accepted!\n"
     ]
    }
   ]
  },
  {
   "cell_type": "markdown",
   "source": [
    "> What are the time and space complexities?\n",
    ">\n",
    "> Time: ?\n",
    ">\n",
    "> Space: ?"
   ],
   "metadata": {
    "id": "D_RCzEX6hzqw"
   }
  },
  {
   "cell_type": "markdown",
   "source": [
    "**E1.4**\n",
    "\n",
    "Reverse elements of list.\n",
    "* `alist = [1,4,7,8]`\n",
    "\n",
    "You have to create your own `mylen` function for this task."
   ],
   "metadata": {
    "id": "K99nLvGCfxm1"
   }
  },
  {
   "cell_type": "code",
   "source": [
    "# Provide your solution here\n",
    "\n",
    "alist = [1,4,7,8]\n",
    "\n"
   ],
   "metadata": {
    "colab": {
     "base_uri": "https://localhost:8080/"
    },
    "id": "t_cd88nKgRUd",
    "outputId": "5388f9f4-6d17-4407-c227-63072c1a7579"
   },
   "execution_count": null,
   "outputs": [
    {
     "output_type": "stream",
     "name": "stdout",
     "text": [
      "[8, 7, 4, 1]\n"
     ]
    }
   ]
  },
  {
   "cell_type": "markdown",
   "source": [
    "##### Can you do it with time O(n) and space O(1)"
   ],
   "metadata": {
    "id": "a216pdF635_c"
   }
  },
  {
   "cell_type": "code",
   "source": [
    "# Provide your solution here\n",
    "\n",
    "alist = [1,4,7,8]\n"
   ],
   "metadata": {
    "id": "1QP6xOQ_4B4P"
   },
   "execution_count": null,
   "outputs": []
  },
  {
   "cell_type": "markdown",
   "source": [
    "> **Hack** 🤔\n",
    ">\n",
    "> Create two pointers, one at 0 index and one at index 3.\n",
    "> Increase the first index while reducing the second index  at each iteration to achieve swappings.\n",
    ">\n",
    "> This will allow to use: time O(n) and space O(1)."
   ],
   "metadata": {
    "id": "i1PKZR_T4COE"
   }
  },
  {
   "cell_type": "markdown",
   "source": [
    "# Exercises group 2"
   ],
   "metadata": {
    "id": "lcFbzckV0rh0"
   }
  },
  {
   "cell_type": "markdown",
   "source": [
    "**E2.1**\n",
    "\n",
    "Create a script to search a list for a specific key.\n",
    "- Print `True` and stop the search upon first occurrence of the key.\n",
    "- Otherwise, print `False`.\n",
    "- Print only once at the end."
   ],
   "metadata": {
    "id": "topkBl4uUsBm"
   }
  },
  {
   "cell_type": "code",
   "execution_count": null,
   "metadata": {
    "colab": {
     "base_uri": "https://localhost:8080/"
    },
    "id": "mLJSFNOlUoY1",
    "outputId": "5d9be73e-d375-4153-a4d1-3a16772e7530"
   },
   "outputs": [
    {
     "output_type": "stream",
     "name": "stdout",
     "text": [
      "False\n"
     ]
    }
   ],
   "source": [
    "# Provide your solution here\n",
    "\n",
    "alist = [10,20,30,40,50,60,70,80,90]\n",
    "key = 140\n",
    "\n",
    "# Provide your solution here\n",
    "\n"
   ]
  },
  {
   "cell_type": "markdown",
   "source": [
    "> What are the time and space complexities?\n",
    ">\n",
    "> Time: ?\n",
    ">\n",
    "> Space: ?"
   ],
   "metadata": {
    "id": "VbvDawQSW53z"
   }
  },
  {
   "cell_type": "markdown",
   "source": [
    "**E2.2**\n",
    "\n",
    "Create a function called `linearSearch` that accepts two arguments:\n",
    "- A list to search\n",
    "- A key to find\n",
    "- Return True or False at the end."
   ],
   "metadata": {
    "id": "lkcifAIQV1k-"
   }
  },
  {
   "cell_type": "code",
   "source": [
    "# Provide your solution here\n",
    "\n",
    "# def linearSearch(arr,key):\n",
    "# ...\n",
    "\n",
    "print(linearSearch(alist,40))\n",
    "print(linearSearch(alist,140))"
   ],
   "metadata": {
    "colab": {
     "base_uri": "https://localhost:8080/"
    },
    "id": "-urVywLJV1Hz",
    "outputId": "9f0f9d50-0fe1-4e5c-ed05-a3476a684057"
   },
   "execution_count": null,
   "outputs": [
    {
     "output_type": "stream",
     "name": "stdout",
     "text": [
      "True\n",
      "False\n"
     ]
    }
   ]
  },
  {
   "cell_type": "markdown",
   "source": [
    "**E2.3**\n",
    "\n",
    "Create a script to search a list for a specific key.\n",
    "- Print the index of the first key\n",
    "- stop the search upon first occurrence of the key.\n",
    "- Otherwise, print `-1`.\n",
    "- Print only once at the end.\n",
    "- Try for both key1=40 and key2=140"
   ],
   "metadata": {
    "id": "71U7Uq1nWWjG"
   }
  },
  {
   "cell_type": "code",
   "source": [
    "# Provide your solution here\n",
    "\n",
    "alist = [10,20,30,40,50,60,70,80,90]\n",
    "key1=40\n",
    "key2=140\n",
    "\n",
    "# def search_key_index(alist,key):\n",
    "# ...\n",
    "\n",
    "print(search_key_index(alist,key1))\n",
    "print(search_key_index(alist,key2))"
   ],
   "metadata": {
    "colab": {
     "base_uri": "https://localhost:8080/"
    },
    "id": "Gd7R7LtfWVlp",
    "outputId": "25877988-aca4-48a4-99aa-ea52e28210fc"
   },
   "execution_count": 4,
   "outputs": [
    {
     "output_type": "stream",
     "name": "stdout",
     "text": [
      "3\n",
      "-1\n"
     ]
    }
   ]
  },
  {
   "cell_type": "markdown",
   "source": [
    "> What are the time and space complexities?\n",
    ">\n",
    "> Time: ?\n",
    ">\n",
    "> Space: ?"
   ],
   "metadata": {
    "id": "7oAhyhRPW9H7"
   }
  },
  {
   "cell_type": "markdown",
   "source": [
    "**E2.4**\n",
    "\n",
    "Create a script to search a list for a specific key.\n",
    "- Return all the indicies of the keys in the list.\n",
    "- Otherwise, return -1.\n",
    "- Try for both key1=40 and key2=140"
   ],
   "metadata": {
    "id": "aiXnNdinXI0j"
   }
  },
  {
   "cell_type": "code",
   "source": [
    "# Provide your solution here\n",
    "\n",
    "alist = [10,40,40,60]\n",
    "key1 = 40\n",
    "key2 = 140\n",
    "\n",
    "# def searchKeys(alist,key):\n",
    "# ...\n",
    "\n",
    "print(searchKeys(alist,key1))\n",
    "print(searchKeys(alist,key2))"
   ],
   "metadata": {
    "colab": {
     "base_uri": "https://localhost:8080/"
    },
    "id": "eha__3trXZAu",
    "outputId": "65c59651-3b6a-41df-f070-6fceaaf82552"
   },
   "execution_count": null,
   "outputs": [
    {
     "output_type": "stream",
     "name": "stdout",
     "text": [
      "[1, 2]\n",
      "-1\n"
     ]
    }
   ]
  },
  {
   "cell_type": "markdown",
   "source": [
    "> What are the time and space complexities?\n",
    ">\n",
    "> Time: ?\n",
    ">\n",
    "> Space: ?"
   ],
   "metadata": {
    "id": "pSAtfG2fYvac"
   }
  },
  {
   "cell_type": "markdown",
   "source": [
    "**E2.5**\n",
    "\n",
    "Create a function called `countKeys` to count how many times a key appears in a list.\n",
    "- Return the results in the form `{key:value}`. For example `{40:2}`, means key 40 exists 2 times."
   ],
   "metadata": {
    "id": "OAgfHa4OYdcc"
   }
  },
  {
   "cell_type": "code",
   "source": [
    "# Provide your solution here\n",
    "\n",
    "alist = [10,10,20,40,40,50]\n",
    "key1=40\n",
    "\n",
    "# def countKeys(alist,key):\n",
    "# ...\n",
    "\n",
    "countKeys(alist,key1)\n"
   ],
   "metadata": {
    "colab": {
     "base_uri": "https://localhost:8080/"
    },
    "id": "8Sth5sBRYiS7",
    "outputId": "a8d33a95-9681-4224-d37a-95107a8e0298"
   },
   "execution_count": 5,
   "outputs": [
    {
     "output_type": "execute_result",
     "data": {
      "text/plain": [
       "{40: 2}"
      ]
     },
     "metadata": {},
     "execution_count": 5
    }
   ]
  },
  {
   "cell_type": "markdown",
   "source": [
    "**E2.6**\n",
    "\n",
    "Create a script to swap two elements of a list.\n",
    "- The user will provide you a list and the two index values to swap.\n",
    "- Swap in place.\n",
    "\n",
    "For example:\n",
    "* [10,20,30,40]\n",
    "* index 1 = 0\n",
    "* index 2 = 3\n",
    "* Return [40,20,30,10]"
   ],
   "metadata": {
    "id": "qwRyi6ERaSuI"
   }
  },
  {
   "cell_type": "code",
   "source": [
    "# Provide your solution here\n",
    "\n",
    "# def swapElementsIndex(alist, index1, index2):\n",
    "# ...\n",
    "\n",
    "swapElementsIndex([10,20,30,40], 0,3)"
   ],
   "metadata": {
    "colab": {
     "base_uri": "https://localhost:8080/"
    },
    "id": "BnZue29ubFTo",
    "outputId": "bea8377c-d677-483c-895d-f22df592c4f0"
   },
   "execution_count": null,
   "outputs": [
    {
     "output_type": "execute_result",
     "data": {
      "text/plain": [
       "[40, 20, 30, 10]"
      ]
     },
     "metadata": {},
     "execution_count": 36
    }
   ]
  },
  {
   "cell_type": "markdown",
   "source": [
    "What are the time and space complexity?"
   ],
   "metadata": {
    "id": "w39eu3mlbbOT"
   }
  },
  {
   "cell_type": "markdown",
   "source": [
    "> What are the time and space complexities?\n",
    ">\n",
    "> Time: ?\n",
    ">\n",
    "> Space: ?"
   ],
   "metadata": {
    "id": "yDRrYlp5beUh"
   }
  },
  {
   "cell_type": "markdown",
   "source": [
    "**E2.7**\n",
    "\n",
    "Create a script to swap two elements of a list.\n",
    "- Swap only if both elements exist in the list.\n",
    "- The user will provide you a list and the two keys to search.\n",
    "\n",
    "For example:\n",
    "* [10,20,30,40]\n",
    "* key 1 = 10\n",
    "* key 2 = 40\n",
    "* Return [40,20,30,10]"
   ],
   "metadata": {
    "id": "cv3us4jYZG5L"
   }
  },
  {
   "cell_type": "code",
   "source": [
    "# Provide your solution here\n",
    "\n",
    "# def swapElementsKeys(alist, key1, key2):\n",
    "# ...\n",
    "\n",
    "print(swapElementsKeys([10,20,30,40], 10,30))\n",
    "print(swapElementsKeys([10,20,30,40], 10,40))\n",
    "print(swapElementsKeys([10,20,30,40], 1,40))"
   ],
   "metadata": {
    "colab": {
     "base_uri": "https://localhost:8080/"
    },
    "id": "VhFbMdjMZZIH",
    "outputId": "535e4e50-47dd-4db0-9031-0555d6618263"
   },
   "execution_count": null,
   "outputs": [
    {
     "output_type": "stream",
     "name": "stdout",
     "text": [
      "[30, 20, 10, 40]\n",
      "[40, 20, 30, 10]\n",
      "[10, 20, 30, 40]\n"
     ]
    }
   ]
  },
  {
   "cell_type": "markdown",
   "source": [
    "What are the time and space complexity?"
   ],
   "metadata": {
    "id": "scgLT94IaOnk"
   }
  },
  {
   "cell_type": "markdown",
   "source": [
    "> What are the time and space complexities?\n",
    ">\n",
    "> Time: ?\n",
    ">\n",
    "> Space: ?"
   ],
   "metadata": {
    "id": "oLz_-jK8aRxL"
   }
  },
  {
   "cell_type": "markdown",
   "source": [
    "**E2.8**\n",
    "\n",
    "Reverse a text."
   ],
   "metadata": {
    "id": "tiTk44nPbpXe"
   }
  },
  {
   "cell_type": "code",
   "source": [
    "# Provide your solution here\n",
    "\n",
    "# def reverseText(text):\n",
    "# ...\n",
    "\n",
    "reverseText(\"racecar\")"
   ],
   "metadata": {
    "colab": {
     "base_uri": "https://localhost:8080/",
     "height": 56
    },
    "id": "T2Vx_LZ-bsdb",
    "outputId": "a91c48ee-a3eb-4150-950f-b702661d6854"
   },
   "execution_count": null,
   "outputs": [
    {
     "output_type": "execute_result",
     "data": {
      "text/plain": [
       "'racecar'"
      ],
      "application/vnd.google.colaboratory.intrinsic+json": {
       "type": "string"
      }
     },
     "metadata": {},
     "execution_count": 39
    }
   ]
  },
  {
   "cell_type": "markdown",
   "source": [
    "> What are the time and space complexities?\n",
    ">\n",
    "> Time: ?\n",
    ">\n",
    "> Space: ?"
   ],
   "metadata": {
    "id": "49nJPAtg7ZZj"
   }
  },
  {
   "cell_type": "markdown",
   "source": [
    "**E2.9**\n",
    "\n",
    "If you did not do it already, can you reverse the text using in-place swapping?"
   ],
   "metadata": {
    "id": "Qtzyg_0f7SPI"
   }
  },
  {
   "cell_type": "code",
   "source": [
    "# def reverseTextSwappings(text):\n",
    "# ...\n",
    "\n",
    "\n",
    "print(reverseTextSwappings(\"racecar\"))\n"
   ],
   "metadata": {
    "colab": {
     "base_uri": "https://localhost:8080/"
    },
    "id": "fCbOs5mD7BbT",
    "outputId": "9f9c3719-ae72-4dcb-c64c-c3e02d3d36b0"
   },
   "execution_count": null,
   "outputs": [
    {
     "output_type": "stream",
     "name": "stdout",
     "text": [
      "racecar\n"
     ]
    }
   ]
  },
  {
   "cell_type": "markdown",
   "source": [
    "> What are the time and space complexities?\n",
    ">\n",
    "> Time: ?\n",
    ">\n",
    "> Space: ?"
   ],
   "metadata": {
    "id": "TQY1SG577avg"
   }
  },
  {
   "cell_type": "markdown",
   "source": [
    "**E2.10**\n",
    "\n",
    "Check if two words are palindrome."
   ],
   "metadata": {
    "id": "-FD2pIrOcMXf"
   }
  },
  {
   "cell_type": "code",
   "source": [
    "# Provide your solution here\n",
    "\n",
    "# def checkPalindrome(word1,word2):\n",
    "# ...\n",
    "\n",
    "print(checkPalindrome('civic','civic'))\n",
    "print(checkPalindrome('abc','abc'))"
   ],
   "metadata": {
    "colab": {
     "base_uri": "https://localhost:8080/"
    },
    "id": "YXsSyqqghVZ1",
    "outputId": "6847525b-2233-423a-cae8-87808dbcf543"
   },
   "execution_count": null,
   "outputs": [
    {
     "output_type": "stream",
     "name": "stdout",
     "text": [
      "True\n",
      "False\n"
     ]
    }
   ]
  },
  {
   "cell_type": "markdown",
   "source": [
    "# Exercises group 3"
   ],
   "metadata": {
    "id": "6qo7nz1R8Jd1"
   }
  },
  {
   "cell_type": "markdown",
   "source": [
    "**Binary Search**\n",
    "\n",
    "Develop the binary search function."
   ],
   "metadata": {
    "id": "6BopbA8pi9XS"
   }
  },
  {
   "cell_type": "code",
   "source": [
    "# Provide your solution here\n",
    "\n",
    "# def binary_search(arr, target):\n",
    "# ...\n",
    "\n",
    "\n",
    "arr = [2, 3, 5, 7, 11, 13, 17, 19]\n",
    "target = 11\n",
    "result = binary_search(arr, target)\n",
    "print(result)"
   ],
   "metadata": {
    "colab": {
     "base_uri": "https://localhost:8080/"
    },
    "id": "8WmjM-Zti_4Q",
    "outputId": "ad7530e7-a9a6-460e-b8a3-f46c6236dd48"
   },
   "execution_count": null,
   "outputs": [
    {
     "output_type": "stream",
     "name": "stdout",
     "text": [
      "4\n"
     ]
    }
   ]
  },
  {
   "cell_type": "markdown",
   "source": [
    "> What are the time and space complexities?\n",
    ">\n",
    "> Time: ?\n",
    ">\n",
    "> Space: ?"
   ],
   "metadata": {
    "id": "w9YqwaHmjQDZ"
   }
  },
  {
   "cell_type": "markdown",
   "source": [
    "**Two sum problem**\n",
    "\n",
    "* Given an array of integers nums and an integer target, return indices of the two numbers such that they add up to target.\n",
    "\n",
    "* You may assume that each input would have exactly one solution, and you may not use the same element twice.\n",
    "\n",
    "* You can return the answer in any order.\n",
    "\n",
    "(Google interview question)"
   ],
   "metadata": {
    "id": "zqr99Pyoj1Rw"
   }
  },
  {
   "cell_type": "code",
   "source": [
    "# Provide your solution here\n",
    "\n",
    "# def twoSumBruteForce(nums, target):\n",
    "# ...\n",
    "\n",
    "twoSumBruteForce([2,7,11,15],9)"
   ],
   "metadata": {
    "colab": {
     "base_uri": "https://localhost:8080/"
    },
    "id": "PUaLkqwLj3DT",
    "outputId": "f940ba49-7ee4-4e7e-e458-59f41030aa2a"
   },
   "execution_count": null,
   "outputs": [
    {
     "output_type": "execute_result",
     "data": {
      "text/plain": [
       "[0, 1]"
      ]
     },
     "metadata": {},
     "execution_count": 73
    }
   ]
  },
  {
   "cell_type": "markdown",
   "source": [
    "**Hasm map**\n",
    "\n",
    "* Hint!\n",
    "\n",
    "Use a set to store values as you go."
   ],
   "metadata": {
    "id": "VmvMEvofkzOw"
   }
  },
  {
   "cell_type": "code",
   "source": [
    "# Provide your solution here\n",
    "\n",
    "# def twoSumHash(nums, target):\n",
    "# ...\n",
    "\n",
    "twoSumHash([2,7,11,15],9)"
   ],
   "metadata": {
    "colab": {
     "base_uri": "https://localhost:8080/"
    },
    "id": "42RftF8YkNTm",
    "outputId": "00b41de9-3b28-4f30-ba18-efe4e0d75dca"
   },
   "execution_count": null,
   "outputs": [
    {
     "output_type": "execute_result",
     "data": {
      "text/plain": [
       "[0, 1]"
      ]
     },
     "metadata": {},
     "execution_count": 80
    }
   ]
  },
  {
   "cell_type": "markdown",
   "source": [
    "Time Complexity: O(n), This approach iterates over the array only once, and for each element, it checks whether its complement exists in the hash map. The insertion and lookup time for a hash map is O(1) on average, so the overall time complexity for traversing the array once is O(n).\n",
    "\n",
    "Space Complexity: O(n), Similar to the Two-Pass Hash Table Approach, a hash map is used to store the elements and their indices. The space complexity is O(n) as the space required for the hash map grows with the number of elements in the array."
   ],
   "metadata": {
    "id": "T8gT8-krk5OM"
   }
  },
  {
   "cell_type": "markdown",
   "source": [
    "**List to frequency dictionary**\n",
    "\n"
   ],
   "metadata": {
    "id": "crRgG5TgoGek"
   }
  },
  {
   "cell_type": "markdown",
   "source": [
    "Given an unsorted list of some elements(which may or may not be integers), find the frequency of each distinct element in the list using a dictionary."
   ],
   "metadata": {
    "id": "v1gmuyZypmi8"
   }
  },
  {
   "cell_type": "code",
   "source": [
    "alist = [10,10,20,20,20,30]\n",
    "freq = {}\n",
    "\n",
    "# Provide your solution here\n",
    "\n",
    "print(freq)\n"
   ],
   "metadata": {
    "colab": {
     "base_uri": "https://localhost:8080/"
    },
    "id": "EB7W3IVeoLol",
    "outputId": "1d3a579a-fdcb-4120-980f-eafff490d01d"
   },
   "execution_count": null,
   "outputs": [
    {
     "output_type": "stream",
     "name": "stdout",
     "text": [
      "{10: 2, 20: 3, 30: 1}\n"
     ]
    }
   ]
  },
  {
   "cell_type": "markdown",
   "source": [
    "> What are the time and space complexities?\n",
    ">\n",
    "> Time: ?\n",
    ">\n",
    "> Space: ?"
   ],
   "metadata": {
    "id": "k2hzLDyzpwmj"
   }
  }
 ]
}
