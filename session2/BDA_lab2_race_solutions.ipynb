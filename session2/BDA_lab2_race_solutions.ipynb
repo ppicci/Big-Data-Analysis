{
 "nbformat": 4,
 "nbformat_minor": 0,
 "metadata": {
  "colab": {
   "provenance": [],
   "collapsed_sections": [
    "3QAw6qes0Y4m",
    "lcFbzckV0rh0"
   ]
  },
  "kernelspec": {
   "name": "python3",
   "display_name": "Python 3 (ipykernel)",
   "language": "python"
  },
  "language_info": {
   "name": "python"
  }
 },
 "cells": [
  {
   "cell_type": "markdown",
   "source": [
    "# BDA Lab 2"
   ],
   "metadata": {
    "id": "_IVCQrrG1xkk"
   }
  },
  {
   "cell_type": "markdown",
   "source": [
    "### In this race lab you are not allowed to use any built-in Python functions like `len`, `sum`, `max`, `range` etc. 😀\n",
    "\n",
    "You can create your own supporting functions, if necessary."
   ],
   "metadata": {
    "id": "okWxV7hrqj-s"
   }
  },
  {
   "cell_type": "markdown",
   "source": [
    "# Warmup group 1"
   ],
   "metadata": {
    "id": "e8mHcvymzhit"
   }
  },
  {
   "cell_type": "markdown",
   "source": [
    "**Warmup 1**\n",
    "\n",
    "Create a list and print all its elements.\n",
    "\n",
    "`alist = [-10,-5,0,4,9]`\n"
   ],
   "metadata": {
    "id": "ggtxr1d9dgPN"
   }
  },
  {
   "cell_type": "code",
   "source": [
    "# Provide your solution here\n",
    "\n",
    "alist = [-10,-5,0,4,9]\n",
    "for i in alist:\n",
    "  print(i)"
   ],
   "metadata": {
    "colab": {
     "base_uri": "https://localhost:8080/"
    },
    "id": "IEqHsNQOdrls",
    "outputId": "8c59f384-04d6-47d7-ecb4-b715bec0f364"
   },
   "execution_count": null,
   "outputs": [
    {
     "output_type": "stream",
     "name": "stdout",
     "text": [
      "-10\n",
      "-5\n",
      "0\n",
      "4\n",
      "9\n"
     ]
    }
   ]
  },
  {
   "cell_type": "markdown",
   "source": [
    "What are the time and space complexities?"
   ],
   "metadata": {
    "id": "RbHQgCwFd-Vd"
   }
  },
  {
   "cell_type": "markdown",
   "source": [
    "Time: O(n)\n",
    "\n",
    "Space: O(1)"
   ],
   "metadata": {
    "id": "1iPPFTJEeBUp"
   }
  },
  {
   "cell_type": "markdown",
   "source": [
    "**Warmup 2**\n",
    "\n",
    "Print the index numbers of the list.\n",
    "alist = [-10,-5,0,4,9]"
   ],
   "metadata": {
    "id": "0odD6c_TqNt5"
   }
  },
  {
   "cell_type": "code",
   "source": [
    "# Provide your solution here\n",
    "\n",
    "alist = [-10,-5,0,4,9]\n",
    "pointer=0\n",
    "for i in alist:\n",
    "  print(pointer)\n",
    "  pointer+=1"
   ],
   "metadata": {
    "colab": {
     "base_uri": "https://localhost:8080/"
    },
    "id": "0s6V0k1rqV29",
    "outputId": "14a1c80a-e88b-4838-e86f-1c910c7bb907"
   },
   "execution_count": null,
   "outputs": [
    {
     "output_type": "stream",
     "name": "stdout",
     "text": [
      "0\n",
      "1\n",
      "2\n",
      "3\n",
      "4\n"
     ]
    }
   ]
  },
  {
   "cell_type": "markdown",
   "source": [
    "**Warmup 3**\n",
    "\n",
    "Create a list and print only the positive numbers or zeros.\n",
    "\n",
    "`alist = [-10,-5,0,4,9]`\n",
    "\n"
   ],
   "metadata": {
    "id": "mZxfViIpdu8U"
   }
  },
  {
   "cell_type": "code",
   "source": [
    "# Provide your solution here\n",
    "\n",
    "alist = [-10,-5,0,4,9]\n",
    "for i in alist:\n",
    "  if i>=0:\n",
    "    print(i)"
   ],
   "metadata": {
    "colab": {
     "base_uri": "https://localhost:8080/"
    },
    "id": "cuNwQtzSeFUv",
    "outputId": "306c8419-0cbc-4dec-fba0-7e9444c59bf2"
   },
   "execution_count": null,
   "outputs": [
    {
     "output_type": "stream",
     "name": "stdout",
     "text": [
      "0\n",
      "4\n",
      "9\n"
     ]
    }
   ]
  },
  {
   "cell_type": "markdown",
   "source": [
    "What is the time and space complexities?\n",
    "\n",
    "* Time: O(n)\n",
    "* Space: O(1)"
   ],
   "metadata": {
    "id": "mI7XjasgeJ0k"
   }
  },
  {
   "cell_type": "markdown",
   "source": [
    "**Warmup 4**\n",
    "\n",
    "Export the positive numbers or zeros into a new list.\n",
    "\n",
    "`alist = [-10,-5,0,4,9]`"
   ],
   "metadata": {
    "id": "o2AvqWP6ePLm"
   }
  },
  {
   "cell_type": "code",
   "source": [
    "# Provide your solution here\n",
    "\n",
    "alist = [-10,-5,0,4,9]\n",
    "res = []\n",
    "for i in alist:\n",
    "  if i>=0:\n",
    "    res.append(i)\n",
    "print(res)"
   ],
   "metadata": {
    "colab": {
     "base_uri": "https://localhost:8080/"
    },
    "id": "HpydkJpweUVX",
    "outputId": "befb1af9-a693-46b2-e303-7b5cc270c680"
   },
   "execution_count": null,
   "outputs": [
    {
     "output_type": "stream",
     "name": "stdout",
     "text": [
      "[0, 4, 9]\n"
     ]
    }
   ]
  },
  {
   "cell_type": "markdown",
   "source": [
    "What are the time and space complexities?\n",
    "\n",
    "* Time: O(n)\n",
    "* Space: O(n) - new list is used"
   ],
   "metadata": {
    "id": "XBW9BFa_eaoV"
   }
  },
  {
   "cell_type": "markdown",
   "source": [
    "**Warmup 5**\n",
    "\n",
    "Find the average of a list of integers.\n",
    "* `alist = [-10,-5,0,4,9]`"
   ],
   "metadata": {
    "id": "2WCH2fNYfSmh"
   }
  },
  {
   "cell_type": "code",
   "source": [
    "# Provide your solution here\n",
    "\n",
    "alist = [-10,-5,0,4,9]\n",
    "count = 0\n",
    "mysum = 0\n",
    "for i in alist:\n",
    "  count+=1\n",
    "  mysum+=i\n",
    "print(mysum/count)"
   ],
   "metadata": {
    "colab": {
     "base_uri": "https://localhost:8080/"
    },
    "id": "YVg-3buRfXy3",
    "outputId": "60da5702-6899-493e-c11a-c61b947b8abc"
   },
   "execution_count": null,
   "outputs": [
    {
     "output_type": "stream",
     "name": "stdout",
     "text": [
      "-0.4\n"
     ]
    }
   ]
  },
  {
   "cell_type": "markdown",
   "source": [
    "What are the time and space complexities?\n",
    "\n",
    "* Time: O(n)\n",
    "* Space: O(1)"
   ],
   "metadata": {
    "id": "y9JwlsIygz1a"
   }
  },
  {
   "cell_type": "markdown",
   "source": [
    "**Warmup 6**"
   ],
   "metadata": {
    "id": "t7DrWe2QtkJt"
   }
  },
  {
   "cell_type": "markdown",
   "source": [
    "Find the max of a sorted list of positive integers."
   ],
   "metadata": {
    "id": "CylHqpsvhEoL"
   }
  },
  {
   "cell_type": "code",
   "source": [
    "# Provide your solution here\n",
    "\n",
    "alist = [-10,-5,0,4,9]\n",
    "\n",
    "print(alist[-1])"
   ],
   "metadata": {
    "colab": {
     "base_uri": "https://localhost:8080/"
    },
    "id": "lbB8xeudhT14",
    "outputId": "36ba79ef-140f-404b-df2a-cb525b81d808"
   },
   "execution_count": null,
   "outputs": [
    {
     "output_type": "stream",
     "name": "stdout",
     "text": [
      "9\n"
     ]
    }
   ]
  },
  {
   "cell_type": "markdown",
   "source": [
    "What are the time and space complexities?\n",
    "Time: O(1)\n",
    "Space: O(1)"
   ],
   "metadata": {
    "id": "I9Z-dP5mhb0C"
   }
  },
  {
   "cell_type": "markdown",
   "source": [
    "**Warmup 7**"
   ],
   "metadata": {
    "id": "cbNecGo2haCm"
   }
  },
  {
   "cell_type": "markdown",
   "source": [
    "Find the max of a list of positive integers."
   ],
   "metadata": {
    "id": "0ontsTzOtoL9"
   }
  },
  {
   "cell_type": "code",
   "source": [
    "# Provide your solution here\n",
    "\n",
    "alist = [10,-5,6,4,9]\n",
    "max = 0\n",
    "for i in alist:\n",
    "  if i>max:\n",
    "    max=i\n",
    "print(max)"
   ],
   "metadata": {
    "colab": {
     "base_uri": "https://localhost:8080/"
    },
    "id": "DmGUvutDtnBT",
    "outputId": "140ce8ca-8597-4f25-f005-0785f8711561"
   },
   "execution_count": null,
   "outputs": [
    {
     "output_type": "stream",
     "name": "stdout",
     "text": [
      "10\n"
     ]
    }
   ]
  },
  {
   "cell_type": "markdown",
   "source": [
    "What are the time and space complexities?\n",
    "\n",
    "* Time: O(n)\n",
    "* Space: O(1)"
   ],
   "metadata": {
    "id": "EVG4qkSbg6tH"
   }
  },
  {
   "cell_type": "markdown",
   "source": [
    "# Exercises group 1"
   ],
   "metadata": {
    "id": "3QAw6qes0Y4m"
   }
  },
  {
   "cell_type": "markdown",
   "source": [
    "**E1.1**\n",
    "\n",
    "Print the list in reverse order.\n",
    "\n",
    "`alist = [-10,-5,0,4,9]`"
   ],
   "metadata": {
    "id": "aCya2f4nfFJU"
   }
  },
  {
   "cell_type": "code",
   "source": [
    "# Provide your solution here\n",
    "\n",
    "def mylen(alist):\n",
    "  count=0\n",
    "  for i in alist:\n",
    "    count+=1\n",
    "  return count\n",
    "\n",
    "alist = [-10,-5,0,4,9]\n",
    "index = 1\n",
    "while index <= mylen(alist):\n",
    "  print(alist[-index])\n",
    "  index += 1\n"
   ],
   "metadata": {
    "colab": {
     "base_uri": "https://localhost:8080/"
    },
    "id": "h4hV5c_1fFpF",
    "outputId": "279cbc7a-df64-4046-8033-64c60906c163"
   },
   "execution_count": null,
   "outputs": [
    {
     "output_type": "stream",
     "name": "stdout",
     "text": [
      "9\n",
      "4\n",
      "0\n",
      "-5\n",
      "-10\n"
     ]
    }
   ]
  },
  {
   "cell_type": "markdown",
   "source": [
    "What are the time and space complexities?\n",
    "\n",
    "* Time: O(n) for `mylen`+ O(n) for `while` loop = O(n)\n",
    "* Space: O(1)"
   ],
   "metadata": {
    "id": "L1xCDxwlftmB"
   }
  },
  {
   "cell_type": "markdown",
   "source": [
    "**E1.2**\n",
    "\n",
    "Remove the negative numbers of a list.\n",
    "\n",
    "`alist = [-10,-5,0,4,9]`"
   ],
   "metadata": {
    "id": "dBxq9Pvmednh"
   }
  },
  {
   "cell_type": "markdown",
   "source": [
    "For this task you can use the following script:\n",
    "\n",
    "`for i in range(len(alist) - 1, -1, -1):`"
   ],
   "metadata": {
    "id": "0iXe11dTxO0l"
   }
  },
  {
   "cell_type": "code",
   "source": [
    "# Provide your solution here\n",
    "\n",
    "# i is the index\n",
    "for i in range(len(alist) - 1, -1, -1):\n",
    "  if alist[i] <= 0:\n",
    "    alist.pop(i)\n",
    "print(alist)"
   ],
   "metadata": {
    "colab": {
     "base_uri": "https://localhost:8080/"
    },
    "id": "qAI5cn9beikC",
    "outputId": "0744a255-2c0f-4075-ce1f-00a4a6d4ffa2"
   },
   "execution_count": null,
   "outputs": [
    {
     "output_type": "stream",
     "name": "stdout",
     "text": [
      "[4, 9]\n"
     ]
    }
   ]
  },
  {
   "cell_type": "markdown",
   "source": [
    "What are the time and space complexities?\n",
    "\n",
    "* Time: O(n)\n",
    "* Space: O(1)"
   ],
   "metadata": {
    "id": "FmQoNhqkfwHg"
   }
  },
  {
   "cell_type": "markdown",
   "source": [
    "**E1.3**\n",
    "\n",
    "Write a program that prompts the user to enter a password.\n",
    "\n",
    "If the password is incorrect, keep prompting the user until they enter the correct password.\n",
    "\n",
    "* The correct password is `secret`."
   ],
   "metadata": {
    "id": "aqb6XG7YhB9v"
   }
  },
  {
   "cell_type": "code",
   "source": [
    "# Provide your solution here\n",
    "\n",
    "password = \"secret\"\n",
    "\n",
    "while True:\n",
    "    user_input = input(\"Enter the password: \")\n",
    "    if user_input == password:\n",
    "        print(\"Password accepted!\")\n",
    "        break\n",
    "    else:\n",
    "        print(\"Incorrect password. Try again.\")"
   ],
   "metadata": {
    "colab": {
     "base_uri": "https://localhost:8080/"
    },
    "id": "oHrAsC2NhCTp",
    "outputId": "fbc2f42f-b5ad-454f-cdfc-4d12cb1d6270"
   },
   "execution_count": null,
   "outputs": [
    {
     "output_type": "stream",
     "name": "stdout",
     "text": [
      "Enter the password: secret\n",
      "Password accepted!\n"
     ]
    }
   ]
  },
  {
   "cell_type": "markdown",
   "source": [
    "What are the time and space complexities?\n",
    "Time: Uknown\n",
    "Space: Irrelevant at is based on user input"
   ],
   "metadata": {
    "id": "D_RCzEX6hzqw"
   }
  },
  {
   "cell_type": "markdown",
   "source": [
    "**E1.4**\n",
    "\n",
    "Reverse elements of list.\n",
    "* `alist = [1,4,7,8]`\n",
    "\n",
    "You have to create your `mylen` function for this task.\n",
    "\n",
    "!Hack\n",
    "\n",
    "* Create two pointers, one at 0 index and one at index 3.\n",
    "* Increase the first index while reducing the second index at each iteration to achieve swappings.\n",
    "* This will allow to use: time O(n) and space O(1)."
   ],
   "metadata": {
    "id": "K99nLvGCfxm1"
   }
  },
  {
   "cell_type": "code",
   "source": [
    "# Provide your solution here\n",
    "\n",
    "alist = [1,4,7,8]\n",
    "\n",
    "\n",
    "def mylen(alist):\n",
    "  count=0\n",
    "  for i in alist:\n",
    "    count+=1\n",
    "  return count\n",
    "\n",
    "left = 0\n",
    "right = mylen(alist)-1\n",
    "\n",
    "while(left<right):\n",
    "  temp = alist[right]\n",
    "  alist[right] = alist[left]\n",
    "  alist[left] = temp\n",
    "  left+=1\n",
    "  right-=1\n",
    "\n",
    "print(alist)"
   ],
   "metadata": {
    "colab": {
     "base_uri": "https://localhost:8080/"
    },
    "id": "t_cd88nKgRUd",
    "outputId": "5388f9f4-6d17-4407-c227-63072c1a7579"
   },
   "execution_count": null,
   "outputs": [
    {
     "output_type": "stream",
     "name": "stdout",
     "text": [
      "[8, 7, 4, 1]\n"
     ]
    }
   ]
  },
  {
   "cell_type": "markdown",
   "source": [
    "# Exercises group 2"
   ],
   "metadata": {
    "id": "lcFbzckV0rh0"
   }
  },
  {
   "cell_type": "markdown",
   "source": [
    "**E2.1**\n",
    "\n",
    "Create a script to search a list for a specific key.\n",
    "- Print `True` and stop the search upon first occurrence of the key.\n",
    "- Otherwise, print `False`.\n",
    "- Print only once at the end."
   ],
   "metadata": {
    "id": "topkBl4uUsBm"
   }
  },
  {
   "cell_type": "code",
   "execution_count": null,
   "metadata": {
    "colab": {
     "base_uri": "https://localhost:8080/"
    },
    "id": "mLJSFNOlUoY1",
    "outputId": "5d9be73e-d375-4153-a4d1-3a16772e7530"
   },
   "outputs": [
    {
     "output_type": "stream",
     "name": "stdout",
     "text": [
      "False\n"
     ]
    }
   ],
   "source": [
    "# Provide your solution here\n",
    "\n",
    "alist = [10,20,30,40,50,60,70,80,90]\n",
    "key = 40\n",
    "\n",
    "# Provide your solution here\n",
    "\n",
    "found = False\n",
    "for i in alist:\n",
    "  if i==key:\n",
    "    found = True\n",
    "print(found)"
   ]
  },
  {
   "cell_type": "markdown",
   "source": [
    "What are the time and space complexity?"
   ],
   "metadata": {
    "id": "_O6x7OshW2vw"
   }
  },
  {
   "cell_type": "markdown",
   "source": [
    "Time: O(n)\n",
    "\n",
    "Space: O(1)"
   ],
   "metadata": {
    "id": "VbvDawQSW53z"
   }
  },
  {
   "cell_type": "markdown",
   "source": [
    "**E2.2**\n",
    "\n",
    "Create a function called `linearSearch` that accepts two arguments:\n",
    "- A list to search\n",
    "- A key to find\n",
    "- Return True or False at the end."
   ],
   "metadata": {
    "id": "lkcifAIQV1k-"
   }
  },
  {
   "cell_type": "code",
   "source": [
    "# Provide your solution here\n",
    "\n",
    "def linearSearch(arr,key):\n",
    "  found = False\n",
    "  for i in arr:\n",
    "    if i==key:\n",
    "      found = True\n",
    "  return(found)\n",
    "\n",
    "print(linearSearch(alist,40))\n",
    "print(linearSearch(alist,140))"
   ],
   "metadata": {
    "colab": {
     "base_uri": "https://localhost:8080/"
    },
    "id": "-urVywLJV1Hz",
    "outputId": "9f0f9d50-0fe1-4e5c-ed05-a3476a684057"
   },
   "execution_count": null,
   "outputs": [
    {
     "output_type": "stream",
     "name": "stdout",
     "text": [
      "True\n",
      "False\n"
     ]
    }
   ]
  },
  {
   "cell_type": "markdown",
   "source": [
    "**E2.3**\n",
    "\n",
    "Create a script to search a list for a specific key.\n",
    "- Print the index of the first key and stop the search upon first occurrence of the key.\n",
    "- Otherwise, print `-1`.\n",
    "- Print only once at the end.\n",
    "- Try for both key1=40 and key2=140"
   ],
   "metadata": {
    "id": "71U7Uq1nWWjG"
   }
  },
  {
   "cell_type": "code",
   "source": [
    "# Provide your solution here\n",
    "\n",
    "alist = [10,20,30,40,50,60,70,80,90]\n",
    "key1=40\n",
    "key2=140\n",
    "\n",
    "def search_key_index(alist,key):\n",
    "  index = 0\n",
    "  found = -1\n",
    "  for i in alist:\n",
    "    if i==key:\n",
    "      found = index\n",
    "    index+=1\n",
    "  return(found)\n",
    "\n",
    "print(search_key_index(alist,key1))\n",
    "print(search_key_index(alist,key2))"
   ],
   "metadata": {
    "colab": {
     "base_uri": "https://localhost:8080/"
    },
    "id": "Gd7R7LtfWVlp",
    "outputId": "80613eab-2230-43ac-c6d3-81d0f83fd2e5",
    "ExecuteTime": {
     "end_time": "2024-06-02T16:53:05.089130Z",
     "start_time": "2024-06-02T16:53:05.066631Z"
    }
   },
   "outputs": [
    {
     "name": "stdout",
     "output_type": "stream",
     "text": [
      "3\n",
      "-1\n"
     ]
    }
   ],
   "execution_count": 1
  },
  {
   "cell_type": "markdown",
   "source": [
    "What are the time and space complexity?"
   ],
   "metadata": {
    "id": "AdPYI4y2XFBQ"
   }
  },
  {
   "cell_type": "markdown",
   "source": [
    "Time: O(n)\n",
    "\n",
    "Space: O(1)"
   ],
   "metadata": {
    "id": "7oAhyhRPW9H7"
   }
  },
  {
   "cell_type": "markdown",
   "source": [
    "**E2.4**\n",
    "\n",
    "Create a script to search a list for a specific key.\n",
    "- Return all the indicies of the keys in the list.\n",
    "- Otherwise, print an empty list.\n",
    "- Print only once at the end.\n",
    "- Try for both key1=40 and key2=140"
   ],
   "metadata": {
    "id": "aiXnNdinXI0j"
   }
  },
  {
   "cell_type": "code",
   "source": [
    "# Provide your solution here\n",
    "\n",
    "alist = [10,40,40,60]\n",
    "key1 = 40\n",
    "key2 = 140\n",
    "\n",
    "def searchKeys(alist,key):\n",
    "  index = 0\n",
    "  result = []\n",
    "  for i in alist:\n",
    "    if i==key:\n",
    "      result.append(index)\n",
    "    index+=1\n",
    "  return result if len(result)!=0 else -1\n",
    "\n",
    "print(searchKeys(alist,key1))\n",
    "print(searchKeys(alist,key2))"
   ],
   "metadata": {
    "colab": {
     "base_uri": "https://localhost:8080/"
    },
    "id": "eha__3trXZAu",
    "outputId": "d56d9aac-9930-4e06-bd21-f79f1b84b519"
   },
   "execution_count": null,
   "outputs": [
    {
     "output_type": "stream",
     "name": "stdout",
     "text": [
      "[1, 2]\n",
      "-1\n"
     ]
    }
   ]
  },
  {
   "cell_type": "markdown",
   "source": [
    "What are the time and space complexity?"
   ],
   "metadata": {
    "id": "pSAtfG2fYvac"
   }
  },
  {
   "cell_type": "markdown",
   "source": [
    "Time: O(n)\n",
    "\n",
    "Space: O(n)"
   ],
   "metadata": {
    "id": "bPDt75OrYv47"
   }
  },
  {
   "cell_type": "markdown",
   "source": [
    "**E2.5**\n",
    "\n",
    "Create a function called `countKeys` to count how many times a key appears in a list.\n",
    "- Return the results in the form `{key:value}`. For example `{40:2}`, means key 40 exists 2 times."
   ],
   "metadata": {
    "id": "OAgfHa4OYdcc"
   }
  },
  {
   "cell_type": "code",
   "source": [
    "# Provide your solution here\n",
    "\n",
    "def countKeys(alist,key):\n",
    "  count = 0\n",
    "  for i in alist:\n",
    "    if i==key:\n",
    "      count+=1\n",
    "  return({key:count})\n",
    "\n",
    "countKeys(alist,key1)"
   ],
   "metadata": {
    "colab": {
     "base_uri": "https://localhost:8080/"
    },
    "id": "8Sth5sBRYiS7",
    "outputId": "230429ff-a175-403d-8083-55a2cfa73a84"
   },
   "execution_count": null,
   "outputs": [
    {
     "output_type": "execute_result",
     "data": {
      "text/plain": [
       "{40: 2}"
      ]
     },
     "metadata": {},
     "execution_count": 24
    }
   ]
  },
  {
   "cell_type": "markdown",
   "source": [
    "**E2.6**\n",
    "\n",
    "Create a script to swap two elements of a list.\n",
    "- Swap only if both elements exist in the list.\n",
    "- The user will provide you a list and the two index values to swap.\n",
    "\n",
    "For example:\n",
    "* [10,20,30,40]\n",
    "* index 1 = 0\n",
    "* index 2 = 3\n",
    "* Return [40,20,30,10]"
   ],
   "metadata": {
    "id": "qwRyi6ERaSuI"
   }
  },
  {
   "cell_type": "code",
   "source": [
    "# Provide your solution here\n",
    "\n",
    "def swapElementsIndex(alist, index1, index2):\n",
    "    if index1 < len(alist) and index2 < len(alist):\n",
    "        temp = alist[index1]\n",
    "        alist[index1]= alist[index2]\n",
    "        alist[index2]= temp\n",
    "    return alist\n",
    "\n",
    "swapElementsIndex([10,20,30,40], 0,3)"
   ],
   "metadata": {
    "colab": {
     "base_uri": "https://localhost:8080/"
    },
    "id": "BnZue29ubFTo",
    "outputId": "bea8377c-d677-483c-895d-f22df592c4f0"
   },
   "execution_count": null,
   "outputs": [
    {
     "output_type": "execute_result",
     "data": {
      "text/plain": [
       "[40, 20, 30, 10]"
      ]
     },
     "metadata": {},
     "execution_count": 36
    }
   ]
  },
  {
   "cell_type": "markdown",
   "source": [
    "What are the time and space complexity?"
   ],
   "metadata": {
    "id": "w39eu3mlbbOT"
   }
  },
  {
   "cell_type": "markdown",
   "source": [
    "Time: O(1)\n",
    "\n",
    "Space: O(1)\n",
    "\n",
    "- In place swappings."
   ],
   "metadata": {
    "id": "yDRrYlp5beUh"
   }
  },
  {
   "cell_type": "markdown",
   "source": [
    "**E2.7**\n",
    "\n",
    "Create a script to swap two elements of a list.\n",
    "- Swap only if both elements exist in the list.\n",
    "- The user will provide you a list and the two keys to search.\n",
    "\n",
    "For example:\n",
    "* [10,20,30,40]\n",
    "* key 1 = 10\n",
    "* key 2 = 40\n",
    "* Return [40,20,30,10]"
   ],
   "metadata": {
    "id": "cv3us4jYZG5L"
   }
  },
  {
   "cell_type": "code",
   "source": [
    "# Provide your solution here\n",
    "\n",
    "def swapElementsKeys(alist, key1, key2):\n",
    "  index1 = None\n",
    "  index2 = None\n",
    "  count = 0\n",
    "  for i in alist:\n",
    "    if i == key1:\n",
    "      index1 = count\n",
    "    elif i == key2:\n",
    "      index2 = count\n",
    "    count+=1\n",
    "\n",
    "    # Swap elements if both are found\n",
    "  if index1 != None and index2 != None:\n",
    "    temp = alist[index1]\n",
    "    alist[index1]= alist[index2]\n",
    "    alist[index2]= temp\n",
    "  return alist\n",
    "\n",
    "swapElementsKeys([10,20,30,40], 10,30)\n",
    "swapElementsKeys([10,20,30,40], 10,40)"
   ],
   "metadata": {
    "colab": {
     "base_uri": "https://localhost:8080/"
    },
    "id": "VhFbMdjMZZIH",
    "outputId": "77218372-bdbd-41a9-d22c-cc12b1a53a64",
    "ExecuteTime": {
     "end_time": "2024-06-04T01:09:37.918555Z",
     "start_time": "2024-06-04T01:09:37.905556Z"
    }
   },
   "outputs": [
    {
     "data": {
      "text/plain": [
       "[30, 20, 10, 40]"
      ]
     },
     "execution_count": 3,
     "metadata": {},
     "output_type": "execute_result"
    }
   ],
   "execution_count": 3
  },
  {
   "cell_type": "markdown",
   "source": [
    "What are the time and space complexity?"
   ],
   "metadata": {
    "id": "scgLT94IaOnk"
   }
  },
  {
   "cell_type": "markdown",
   "source": [
    "Time: O(n)\n",
    "\n",
    "Space: O(1) - if we don't use an extra list (in-place swapping)."
   ],
   "metadata": {
    "id": "oLz_-jK8aRxL"
   }
  },
  {
   "cell_type": "markdown",
   "source": [
    "**E2.8**\n",
    "\n",
    "Reverse a text."
   ],
   "metadata": {
    "id": "tiTk44nPbpXe"
   }
  },
  {
   "cell_type": "code",
   "source": [
    "# Provide your solution here\n",
    "\n",
    "def reverseText(text):\n",
    "    reversed_text = \"\"\n",
    "    for char in text:\n",
    "        reversed_text = char + reversed_text\n",
    "    return reversed_text\n",
    "\n",
    "reverseText(\"racecar\")"
   ],
   "metadata": {
    "colab": {
     "base_uri": "https://localhost:8080/",
     "height": 56
    },
    "id": "T2Vx_LZ-bsdb",
    "outputId": "a91c48ee-a3eb-4150-950f-b702661d6854"
   },
   "execution_count": null,
   "outputs": [
    {
     "output_type": "execute_result",
     "data": {
      "text/plain": [
       "'racecar'"
      ],
      "application/vnd.google.colaboratory.intrinsic+json": {
       "type": "string"
      }
     },
     "metadata": {},
     "execution_count": 39
    }
   ]
  },
  {
   "cell_type": "markdown",
   "source": [
    "What are the time and space complexity?"
   ],
   "metadata": {
    "id": "phYiDCJBcUz-"
   }
  },
  {
   "cell_type": "markdown",
   "source": [
    "Time: O(n)\n",
    "\n",
    "Space: O(n)"
   ],
   "metadata": {
    "id": "e9rONQ6BcXVu"
   }
  },
  {
   "cell_type": "markdown",
   "source": [
    "Can you reverse the text using in-place swapping?"
   ],
   "metadata": {
    "id": "cr_BBiqD7jZj"
   }
  },
  {
   "cell_type": "code",
   "source": [
    "def reverseTextSwappings(text):\n",
    "    text_list = list(text)\n",
    "    start = 0\n",
    "    end = len(text_list) - 1\n",
    "\n",
    "    while start < end:\n",
    "        text_list[start], text_list[end] = text_list[end], text_list[start]\n",
    "        start += 1\n",
    "        end -= 1\n",
    "\n",
    "    return ''.join(text_list)\n",
    "\n",
    "print(reverseTextSwappings(\"racecar\"))\n"
   ],
   "metadata": {
    "colab": {
     "base_uri": "https://localhost:8080/"
    },
    "id": "KrDNMQJg7jjc",
    "outputId": "8101becf-1575-42b2-988e-cf93908560c5"
   },
   "execution_count": null,
   "outputs": [
    {
     "output_type": "stream",
     "name": "stdout",
     "text": [
      "racecar\n"
     ]
    }
   ]
  },
  {
   "cell_type": "markdown",
   "source": [
    "> What are the time and space complexities?\n",
    ">\n",
    "> Time: O(n)\n",
    ">\n",
    "> Space: O(1)"
   ],
   "metadata": {
    "id": "pVrW9MGo7yVz"
   }
  },
  {
   "cell_type": "markdown",
   "source": [
    "**E2.10**\n",
    "\n",
    "Check if two words are palindrome."
   ],
   "metadata": {
    "id": "-FD2pIrOcMXf"
   }
  },
  {
   "cell_type": "code",
   "source": [
    "# Provide your solution here\n",
    "\n",
    "def checkPalindrome(word1,word2):\n",
    "  if word1==reverseTextSwappings(word2):\n",
    "    return True\n",
    "  return False\n",
    "\n",
    "print(checkPalindrome('civic','civic'))\n",
    "print(checkPalindrome('abc','abc'))"
   ],
   "metadata": {
    "colab": {
     "base_uri": "https://localhost:8080/"
    },
    "id": "YXsSyqqghVZ1",
    "outputId": "9e6effe2-2187-4f3d-b6dd-423ea27a69ac"
   },
   "execution_count": null,
   "outputs": [
    {
     "output_type": "stream",
     "name": "stdout",
     "text": [
      "True\n",
      "False\n"
     ]
    }
   ]
  },
  {
   "cell_type": "markdown",
   "source": [
    "# Exercises group 3"
   ],
   "metadata": {
    "id": "ItRAjTsF8K74"
   }
  },
  {
   "cell_type": "markdown",
   "source": [
    "**Binary Search**\n",
    "\n",
    "Develop the binary search function."
   ],
   "metadata": {
    "id": "6BopbA8pi9XS"
   }
  },
  {
   "cell_type": "code",
   "source": [
    "# Provide your solution here\n",
    "\n",
    "def binary_search(arr, target):\n",
    "    left, right = 0, len(arr) - 1\n",
    "\n",
    "    while left <= right:\n",
    "        mid = left + (right - left) // 2\n",
    "        if arr[mid] == target:\n",
    "            return mid\n",
    "        elif arr[mid] < target:\n",
    "            left = mid + 1\n",
    "        else:\n",
    "            right = mid - 1\n",
    "\n",
    "    return -1\n",
    "\n",
    "arr = [2, 3, 5, 7, 11, 13, 17, 19]\n",
    "target = 11\n",
    "result = binary_search(arr, target)\n",
    "print(result)"
   ],
   "metadata": {
    "colab": {
     "base_uri": "https://localhost:8080/"
    },
    "id": "8WmjM-Zti_4Q",
    "outputId": "ad7530e7-a9a6-460e-b8a3-f46c6236dd48"
   },
   "execution_count": null,
   "outputs": [
    {
     "output_type": "stream",
     "name": "stdout",
     "text": [
      "4\n"
     ]
    }
   ]
  },
  {
   "cell_type": "markdown",
   "source": [
    "What are the time and space complexities?\n",
    "\n",
    "* Time: O(logn)\n",
    "* Space: O(1)"
   ],
   "metadata": {
    "id": "w9YqwaHmjQDZ"
   }
  },
  {
   "cell_type": "markdown",
   "source": [
    "**Two sum problem**\n",
    "\n",
    "* Given an array of integers nums and an integer target, return indices of the two numbers such that they add up to target.\n",
    "\n",
    "* You may assume that each input would have exactly one solution, and you may not use the same element twice.\n",
    "\n",
    "* You can return the answer in any order.\n",
    "\n",
    "(Google interview question)"
   ],
   "metadata": {
    "id": "zqr99Pyoj1Rw"
   }
  },
  {
   "cell_type": "code",
   "source": [
    "# Provide your solution here\n",
    "\n",
    "def twoSumBruteForce(nums, target):\n",
    "  for i in range(len(nums)):\n",
    "    for j in range(i+1, len(nums)):\n",
    "      if nums[i] + nums[j] == target:\n",
    "        return [i, j]\n",
    "  return []\n",
    "\n",
    "twoSumBruteForce([2,7,11,15],9)"
   ],
   "metadata": {
    "colab": {
     "base_uri": "https://localhost:8080/"
    },
    "id": "PUaLkqwLj3DT",
    "outputId": "f940ba49-7ee4-4e7e-e458-59f41030aa2a"
   },
   "execution_count": null,
   "outputs": [
    {
     "output_type": "execute_result",
     "data": {
      "text/plain": [
       "[0, 1]"
      ]
     },
     "metadata": {},
     "execution_count": 73
    }
   ]
  },
  {
   "cell_type": "markdown",
   "source": [
    "**Hash map**\n",
    "\n",
    "* Hint!\n",
    "\n",
    "Use a set to store values as you go."
   ],
   "metadata": {
    "id": "VmvMEvofkzOw"
   }
  },
  {
   "cell_type": "code",
   "source": [
    "# Provide your solution here\n",
    "\n",
    "def twoSumHash(nums, target):\n",
    "  numMap = {}\n",
    "  for i, num in enumerate(nums):\n",
    "      complement = target - num\n",
    "      if complement in numMap:\n",
    "        return [numMap[complement], i]\n",
    "      numMap[num] = i\n",
    "  return []\n",
    "\n",
    "twoSumHash([2,7,11,15],9)"
   ],
   "metadata": {
    "colab": {
     "base_uri": "https://localhost:8080/"
    },
    "id": "42RftF8YkNTm",
    "outputId": "00b41de9-3b28-4f30-ba18-efe4e0d75dca"
   },
   "execution_count": null,
   "outputs": [
    {
     "output_type": "execute_result",
     "data": {
      "text/plain": [
       "[0, 1]"
      ]
     },
     "metadata": {},
     "execution_count": 80
    }
   ]
  },
  {
   "cell_type": "markdown",
   "source": [
    "Time Complexity: O(n), This approach iterates over the array only once, and for each element, it checks whether its complement exists in the hash map. The insertion and lookup time for a hash map is O(1) on average, so the overall time complexity for traversing the array once is O(n).\n",
    "\n",
    "Space Complexity: O(n), Similar to the Two-Pass Hash Table Approach, a hash map is used to store the elements and their indices. The space complexity is O(n) as the space required for the hash map grows with the number of elements in the array."
   ],
   "metadata": {
    "id": "T8gT8-krk5OM"
   }
  },
  {
   "cell_type": "markdown",
   "source": [
    "**List to frequency dictionary**\n",
    "\n"
   ],
   "metadata": {
    "id": "crRgG5TgoGek"
   }
  },
  {
   "cell_type": "markdown",
   "source": [
    "Given an unsorted list of some elements(which may or may not be integers), find the frequency of each distinct element in the list using a dictionary."
   ],
   "metadata": {
    "id": "v1gmuyZypmi8"
   }
  },
  {
   "cell_type": "code",
   "source": [
    "# Provide your solution here\n",
    "\n",
    "alist = [10,10,20,20,20,30]\n",
    "freq = {}\n",
    "\n",
    "for i in alist:\n",
    "  if i not in freq:\n",
    "    freq[i]=1\n",
    "  else:\n",
    "    freq[i]+=1\n",
    "\n",
    "print(freq)\n"
   ],
   "metadata": {
    "colab": {
     "base_uri": "https://localhost:8080/"
    },
    "id": "EB7W3IVeoLol",
    "outputId": "1d3a579a-fdcb-4120-980f-eafff490d01d"
   },
   "execution_count": null,
   "outputs": [
    {
     "output_type": "stream",
     "name": "stdout",
     "text": [
      "{10: 2, 20: 3, 30: 1}\n"
     ]
    }
   ]
  },
  {
   "cell_type": "markdown",
   "source": [
    "What are the time and space complexity?"
   ],
   "metadata": {
    "id": "O9PipXb8phfE"
   }
  },
  {
   "cell_type": "markdown",
   "source": [
    "O(n), where n is the length of the list."
   ],
   "metadata": {
    "id": "k2hzLDyzpwmj"
   }
  }
 ]
}
